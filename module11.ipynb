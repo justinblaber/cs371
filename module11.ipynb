{
 "cells": [
  {
   "cell_type": "code",
   "execution_count": null,
   "metadata": {},
   "outputs": [],
   "source": [
    "# default_exp module11"
   ]
  },
  {
   "cell_type": "markdown",
   "metadata": {},
   "source": [
    "# Import"
   ]
  },
  {
   "cell_type": "code",
   "execution_count": null,
   "metadata": {},
   "outputs": [],
   "source": [
    "# export\n",
    "import numpy as np\n",
    "import matplotlib.pyplot as plt\n",
    "\n",
    "from cs371.utils import *"
   ]
  },
  {
   "cell_type": "markdown",
   "metadata": {},
   "source": [
    "# Optimal change making with dynamic programming"
   ]
  },
  {
   "cell_type": "markdown",
   "metadata": {},
   "source": [
    "Given change, determine smallest number of coins required to make that change.\n",
    "\n",
    "* For 75 cents, smallest number of coins is 3 quarters\n",
    "* For 20 cents, smallest number of coins is 2 dimes"
   ]
  },
  {
   "cell_type": "code",
   "execution_count": null,
   "metadata": {},
   "outputs": [],
   "source": [
    "def optimal_change_num_slow(change, coins):\n",
    "    if change in coins: return 1\n",
    "    \n",
    "    change_num = []\n",
    "    for coin in coins:\n",
    "        if change - coin > 0:\n",
    "            change_num.append(optimal_change_num_slow(change-coin, coins) + 1)\n",
    "    return min(change_num)"
   ]
  },
  {
   "cell_type": "code",
   "execution_count": null,
   "metadata": {},
   "outputs": [
    {
     "data": {
      "text/plain": [
       "2"
      ]
     },
     "execution_count": null,
     "metadata": {},
     "output_type": "execute_result"
    }
   ],
   "source": [
    "optimal_change_num_slow(50, [1, 5, 10, 25])"
   ]
  },
  {
   "cell_type": "markdown",
   "metadata": {},
   "source": [
    "Try to memoize"
   ]
  },
  {
   "cell_type": "code",
   "execution_count": null,
   "metadata": {},
   "outputs": [],
   "source": [
    "def optimal_change_num_fast(change, coins, memory={}):\n",
    "    if change in coins: return 1\n",
    "    \n",
    "    change_num = []\n",
    "    for coin in coins:\n",
    "        if change - coin > 0:\n",
    "            if change-coin not in memory:\n",
    "                memory[change-coin] = optimal_change_num_fast(change-coin, coins, memory)\n",
    "            change_num.append(memory[change-coin] + 1)\n",
    "    return min(change_num)"
   ]
  },
  {
   "cell_type": "code",
   "execution_count": null,
   "metadata": {},
   "outputs": [
    {
     "data": {
      "text/plain": [
       "8"
      ]
     },
     "execution_count": null,
     "metadata": {},
     "output_type": "execute_result"
    }
   ],
   "source": [
    "memory = {}\n",
    "optimal_change_num_fast(74, [1, 5, 10, 25], memory)"
   ]
  },
  {
   "cell_type": "code",
   "execution_count": null,
   "metadata": {},
   "outputs": [
    {
     "name": "stdout",
     "output_type": "stream",
     "text": [
      "1 - 1\n",
      "2 - 2\n",
      "3 - 3\n",
      "4 - 4\n",
      "5 - 1\n",
      "6 - 2\n",
      "7 - 3\n",
      "8 - 4\n",
      "9 - 5\n",
      "10 - 1\n",
      "11 - 2\n",
      "12 - 3\n",
      "13 - 4\n",
      "14 - 5\n",
      "15 - 2\n",
      "16 - 3\n",
      "17 - 4\n",
      "18 - 5\n",
      "19 - 6\n",
      "20 - 2\n",
      "21 - 3\n",
      "22 - 4\n",
      "23 - 5\n",
      "24 - 6\n",
      "25 - 1\n",
      "26 - 2\n",
      "27 - 3\n",
      "28 - 4\n",
      "29 - 5\n",
      "30 - 2\n",
      "31 - 3\n",
      "32 - 4\n",
      "33 - 5\n",
      "34 - 6\n",
      "35 - 2\n",
      "36 - 3\n",
      "37 - 4\n",
      "38 - 5\n",
      "39 - 6\n",
      "40 - 3\n",
      "41 - 4\n",
      "42 - 5\n",
      "43 - 6\n",
      "44 - 7\n",
      "45 - 3\n",
      "46 - 4\n",
      "47 - 5\n",
      "48 - 6\n",
      "49 - 7\n",
      "50 - 2\n",
      "51 - 3\n",
      "52 - 4\n",
      "53 - 5\n",
      "54 - 6\n",
      "55 - 3\n",
      "56 - 4\n",
      "57 - 5\n",
      "58 - 6\n",
      "59 - 7\n",
      "60 - 3\n",
      "61 - 4\n",
      "62 - 5\n",
      "63 - 6\n",
      "64 - 7\n",
      "65 - 4\n",
      "66 - 5\n",
      "67 - 6\n",
      "68 - 7\n",
      "69 - 8\n",
      "70 - 4\n",
      "71 - 5\n",
      "72 - 6\n",
      "73 - 7\n"
     ]
    }
   ],
   "source": [
    "for key in sorted(memory.keys()):\n",
    "    print(f'{key} - {memory[key]}')"
   ]
  },
  {
   "cell_type": "code",
   "execution_count": null,
   "metadata": {},
   "outputs": [],
   "source": [
    "def optimal_change_bottom_up(change, coins):\n",
    "    memory = [None for _ in range(change)]\n",
    "\n",
    "    for idx in range(change):\n",
    "        change_idx = idx+1\n",
    "        if change_idx in coins: memory[idx] = 1\n",
    "        else:\n",
    "            min_cost = np.inf\n",
    "            for coin in coins:\n",
    "                idx_memory = change_idx-coin-1\n",
    "                if idx_memory >= 0 and memory[idx_memory]+1 < min_cost:\n",
    "                    min_cost = memory[idx_memory]+1\n",
    "            memory[idx] = min_cost\n",
    "    return memory[-1]"
   ]
  },
  {
   "cell_type": "code",
   "execution_count": null,
   "metadata": {},
   "outputs": [
    {
     "data": {
      "text/plain": [
       "8"
      ]
     },
     "execution_count": null,
     "metadata": {},
     "output_type": "execute_result"
    }
   ],
   "source": [
    "optimal_change_bottom_up(74, [1, 5, 10, 25])"
   ]
  },
  {
   "cell_type": "markdown",
   "metadata": {},
   "source": [
    "Get path"
   ]
  },
  {
   "cell_type": "code",
   "execution_count": null,
   "metadata": {},
   "outputs": [],
   "source": [
    "change = 74\n",
    "coins  = [1, 5, 10, 25]"
   ]
  },
  {
   "cell_type": "code",
   "execution_count": null,
   "metadata": {},
   "outputs": [],
   "source": [
    "memory     = [None for _ in range(change)]\n",
    "mem_coins  = [None for _ in range(change)]\n",
    "for idx in range(change):\n",
    "    change_idx = idx+1\n",
    "    if change_idx in coins: \n",
    "        memory[idx]     = 1\n",
    "        mem_coins[idx]  = change_idx\n",
    "    else:\n",
    "        min_cost = np.inf\n",
    "        min_coin = None\n",
    "        for coin in coins:\n",
    "            idx_memory = change_idx-coin-1\n",
    "            if idx_memory >= 0 and memory[idx_memory]+1 < min_cost:\n",
    "                min_cost = memory[idx_memory]+1\n",
    "                min_coin = coin\n",
    "        memory[idx]    = min_cost\n",
    "        mem_coins[idx] = min_coin"
   ]
  },
  {
   "cell_type": "markdown",
   "metadata": {},
   "source": [
    "Collect coins"
   ]
  },
  {
   "cell_type": "code",
   "execution_count": null,
   "metadata": {},
   "outputs": [],
   "source": [
    "coins_change = []\n",
    "idx = len(mem_coins)-1\n",
    "while idx >= 0:\n",
    "    coins_change.append(mem_coins[idx])\n",
    "    idx -= mem_coins[idx]"
   ]
  },
  {
   "cell_type": "code",
   "execution_count": null,
   "metadata": {},
   "outputs": [
    {
     "data": {
      "text/plain": [
       "8"
      ]
     },
     "execution_count": null,
     "metadata": {},
     "output_type": "execute_result"
    }
   ],
   "source": [
    "memory[-1]"
   ]
  },
  {
   "cell_type": "code",
   "execution_count": null,
   "metadata": {},
   "outputs": [
    {
     "data": {
      "text/plain": [
       "[1, 1, 1, 1, 10, 10, 25, 25]"
      ]
     },
     "execution_count": null,
     "metadata": {},
     "output_type": "execute_result"
    }
   ],
   "source": [
    "coins_change"
   ]
  },
  {
   "cell_type": "code",
   "execution_count": null,
   "metadata": {},
   "outputs": [
    {
     "data": {
      "text/plain": [
       "74"
      ]
     },
     "execution_count": null,
     "metadata": {},
     "output_type": "execute_result"
    }
   ],
   "source": [
    "sum(coins_change)"
   ]
  },
  {
   "cell_type": "markdown",
   "metadata": {},
   "source": [
    "Get all paths"
   ]
  },
  {
   "cell_type": "code",
   "execution_count": null,
   "metadata": {},
   "outputs": [],
   "source": [
    "coins  = [1, 3, 5, 10, 25]\n",
    "change = 94"
   ]
  },
  {
   "cell_type": "code",
   "execution_count": null,
   "metadata": {},
   "outputs": [],
   "source": [
    "memory     = [None for _ in range(change)]\n",
    "mem_coins  = [[] for _ in range(change)]\n",
    "for idx in range(change):\n",
    "    change_idx = idx+1\n",
    "    if change_idx in coins: \n",
    "        memory[idx]     = 1\n",
    "        mem_coins[idx].append(change_idx)\n",
    "    else:\n",
    "        min_cost = np.inf\n",
    "        min_coin = None\n",
    "        for coin in coins:\n",
    "            idx_memory = change_idx-coin-1\n",
    "            if idx_memory >= 0 and memory[idx_memory]+1 < min_cost:\n",
    "                min_cost = memory[idx_memory]+1\n",
    "        memory[idx]    = min_cost\n",
    "        \n",
    "        for coin in coins:\n",
    "            idx_memory = change_idx-coin-1\n",
    "            if idx_memory >= 0 and memory[idx_memory]+1 == min_cost:\n",
    "                mem_coins[idx].append(coin)"
   ]
  },
  {
   "cell_type": "code",
   "execution_count": null,
   "metadata": {},
   "outputs": [
    {
     "data": {
      "text/plain": [
       "[[1],\n",
       " [1],\n",
       " [3],\n",
       " [1, 3],\n",
       " [5],\n",
       " [1, 3, 5],\n",
       " [1, 3, 5],\n",
       " [3, 5],\n",
       " [1, 3, 5],\n",
       " [10],\n",
       " [1, 10],\n",
       " [1, 10],\n",
       " [3, 10],\n",
       " [1, 3, 10],\n",
       " [5, 10],\n",
       " [1, 3, 5, 10],\n",
       " [1, 3, 5, 10],\n",
       " [3, 5, 10],\n",
       " [1, 3, 5, 10],\n",
       " [10],\n",
       " [1, 10],\n",
       " [1, 10],\n",
       " [3, 10],\n",
       " [1, 3, 10],\n",
       " [25],\n",
       " [1, 25],\n",
       " [1, 25],\n",
       " [3, 25],\n",
       " [1, 3, 25],\n",
       " [5, 25],\n",
       " [1, 3, 5, 25],\n",
       " [1, 3, 5, 25],\n",
       " [3, 5, 25],\n",
       " [1, 3, 5, 25],\n",
       " [10, 25],\n",
       " [1, 10, 25],\n",
       " [1, 10, 25],\n",
       " [3, 10, 25],\n",
       " [1, 3, 10, 25],\n",
       " [5, 10, 25],\n",
       " [1, 3, 5, 10, 25],\n",
       " [1, 3, 5, 10, 25],\n",
       " [3, 5, 10, 25],\n",
       " [1, 3, 5, 10, 25],\n",
       " [10, 25],\n",
       " [1, 10, 25],\n",
       " [1, 10, 25],\n",
       " [3, 10, 25],\n",
       " [1, 3, 10, 25],\n",
       " [25],\n",
       " [1, 25],\n",
       " [1, 25],\n",
       " [3, 25],\n",
       " [1, 3, 25],\n",
       " [5, 25],\n",
       " [1, 3, 5, 25],\n",
       " [1, 3, 5, 25],\n",
       " [3, 5, 25],\n",
       " [1, 3, 5, 25],\n",
       " [10, 25],\n",
       " [1, 10, 25],\n",
       " [1, 10, 25],\n",
       " [3, 10, 25],\n",
       " [1, 3, 10, 25],\n",
       " [5, 10, 25],\n",
       " [1, 3, 5, 10, 25],\n",
       " [1, 3, 5, 10, 25],\n",
       " [3, 5, 10, 25],\n",
       " [1, 3, 5, 10, 25],\n",
       " [10, 25],\n",
       " [1, 10, 25],\n",
       " [1, 10, 25],\n",
       " [3, 10, 25],\n",
       " [1, 3, 10, 25],\n",
       " [25],\n",
       " [1, 25],\n",
       " [1, 25],\n",
       " [3, 25],\n",
       " [1, 3, 25],\n",
       " [5, 25],\n",
       " [1, 3, 5, 25],\n",
       " [1, 3, 5, 25],\n",
       " [3, 5, 25],\n",
       " [1, 3, 5, 25],\n",
       " [10, 25],\n",
       " [1, 10, 25],\n",
       " [1, 10, 25],\n",
       " [3, 10, 25],\n",
       " [1, 3, 10, 25],\n",
       " [5, 10, 25],\n",
       " [1, 3, 5, 10, 25],\n",
       " [1, 3, 5, 10, 25],\n",
       " [3, 5, 10, 25],\n",
       " [1, 3, 5, 10, 25]]"
      ]
     },
     "execution_count": null,
     "metadata": {},
     "output_type": "execute_result"
    }
   ],
   "source": [
    "mem_coins"
   ]
  },
  {
   "cell_type": "markdown",
   "metadata": {},
   "source": [
    "This will potentially create a LOT of paths... but collect coins anyway"
   ]
  },
  {
   "cell_type": "code",
   "execution_count": null,
   "metadata": {},
   "outputs": [],
   "source": [
    "set_coins = set()\n",
    "list_coins = []\n",
    "num_paths = [0]"
   ]
  },
  {
   "cell_type": "code",
   "execution_count": null,
   "metadata": {},
   "outputs": [],
   "source": [
    "def _get_paths(list_coins, idx):\n",
    "    if idx < 0:\n",
    "        dict_coins = {}\n",
    "        for coin in list_coins:\n",
    "            if coin not in dict_coins:  dict_coins[coin] = 1\n",
    "            else:                       dict_coins[coin] +=1\n",
    "        str_coins = '; '.join([f'{coin}x{dict_coins[coin]}' for coin in sorted(dict_coins.keys())])\n",
    "        set_coins.add(str_coins)\n",
    "        num_paths[0] += 1\n",
    "        return\n",
    "    \n",
    "    for coin in mem_coins[idx]:\n",
    "        list_coins.append(coin)\n",
    "        _get_paths(list_coins, idx-coin)\n",
    "        list_coins.pop()"
   ]
  },
  {
   "cell_type": "code",
   "execution_count": null,
   "metadata": {},
   "outputs": [],
   "source": [
    "_get_paths(list_coins, len(mem_coins)-1)"
   ]
  },
  {
   "cell_type": "code",
   "execution_count": null,
   "metadata": {},
   "outputs": [
    {
     "data": {
      "text/plain": [
       "980"
      ]
     },
     "execution_count": null,
     "metadata": {},
     "output_type": "execute_result"
    }
   ],
   "source": [
    "num_paths[0]"
   ]
  },
  {
   "cell_type": "code",
   "execution_count": null,
   "metadata": {},
   "outputs": [
    {
     "data": {
      "text/plain": [
       "{'1x1; 3x1; 5x1; 10x1; 25x3', '3x3; 10x1; 25x3'}"
      ]
     },
     "execution_count": null,
     "metadata": {},
     "output_type": "execute_result"
    }
   ],
   "source": [
    "set_coins"
   ]
  },
  {
   "cell_type": "markdown",
   "metadata": {},
   "source": [
    "## Fill out module example"
   ]
  },
  {
   "cell_type": "markdown",
   "metadata": {},
   "source": [
    "### Stack"
   ]
  },
  {
   "cell_type": "code",
   "execution_count": null,
   "metadata": {},
   "outputs": [],
   "source": [
    "class Node:\n",
    "    def __init__(self, value):\n",
    "        self.value = value\n",
    "        self.next = None # Python's version of \"null\" is \"None\"\n",
    "\n",
    "class LinkedList:\n",
    "    def __init__(self):\n",
    "        self.head = None\n",
    "        self.N = 0\n",
    "    \n",
    "    def add_first(self, value):\n",
    "        \"\"\"\n",
    "        Parameters\n",
    "        ----------\n",
    "        value: any\n",
    "            Add a new node to the beginning with this value\n",
    "        \"\"\"\n",
    "        new_node = Node(value)\n",
    "        head_before = self.head\n",
    "        self.head = new_node\n",
    "        new_node.next = head_before\n",
    "        self.N += 1\n",
    "    \n",
    "    def remove_first(self):\n",
    "        \"\"\"\n",
    "        Remove and return the first value from the linked list\n",
    "        or do nothing and return None if it's already empty\n",
    "        \"\"\"\n",
    "        ret = None\n",
    "        if self.head: # If the head is not None\n",
    "            ret = self.head.value\n",
    "            self.head = self.head.next\n",
    "            self.N -= 1\n",
    "        return ret\n",
    "    \n",
    "    def peek_first(self):\n",
    "        ret = None\n",
    "        if self.head:\n",
    "            ret = self.head.value\n",
    "        return ret\n",
    "        \n",
    "    def __str__(self):\n",
    "        # This is like the to-string method\n",
    "        s = \"LinkedList: \"\n",
    "        node = self.head\n",
    "        while node: #As long as the node is not None\n",
    "            s += \"{} ==> \".format(node.value)\n",
    "            node = node.next\n",
    "        return s\n",
    "    \n",
    "    def __len__(self):\n",
    "        # This allows us to use len() on our object to get its length!\n",
    "        return self.N\n",
    "\n",
    "class Stack:\n",
    "    def __init__(self):\n",
    "        self.L = LinkedList()\n",
    "    \n",
    "    def push(self, val):\n",
    "        self.L.add_first(val)\n",
    "    \n",
    "    def pop(self):\n",
    "        return self.L.remove_first()\n",
    "    \n",
    "    def peek(self):\n",
    "        return self.L.peek_first()\n",
    "    \n",
    "    def get_entire_stack(self):\n",
    "        node = self.L.head\n",
    "        ret = []\n",
    "        while node: #As long as the node is not None\n",
    "            ret = [node.value] + ret\n",
    "            node = node.next\n",
    "        return ret\n",
    "    \n",
    "    def __len__(self):\n",
    "        # This allows us to use len() on our object to get its length!\n",
    "        return len(self.L)"
   ]
  },
  {
   "cell_type": "markdown",
   "metadata": {},
   "source": [
    "### Code"
   ]
  },
  {
   "cell_type": "code",
   "execution_count": null,
   "metadata": {},
   "outputs": [],
   "source": [
    "def get_change_coins(optimal, s, amt, all_ways):\n",
    "    if len(optimal[amt]) == 0:\n",
    "        # Stopping condition: No more coins left to look at\n",
    "        # We know that this amount is one of the coins\n",
    "        counts = {amt:1}\n",
    "        for coin in s.get_entire_stack():\n",
    "            if not coin in counts:\n",
    "                counts[coin] = 0\n",
    "            counts[coin] += 1\\\n",
    "        # Format this nicely in a string sorted in increasing\n",
    "        # order of coin value\n",
    "        way = \"\"\n",
    "        for i, coin in enumerate(sorted(counts.keys())):\n",
    "            way += \"{}x{}\".format(coin, counts[coin])\n",
    "            if i < len(counts)-1:\n",
    "                way += \",\"\n",
    "        all_ways.add(way)\n",
    "    else:\n",
    "        for c in optimal[amt]:\n",
    "            s.push(c)\n",
    "            get_change_coins(optimal, s, amt-c, all_ways)\n",
    "            s.pop()\n",
    "            pass"
   ]
  },
  {
   "cell_type": "code",
   "execution_count": null,
   "metadata": {},
   "outputs": [],
   "source": [
    "def min_coins_needed_dyn(coins, amt):\n",
    "    mem = [0]*(amt+1) # Ex) mem[10] is minimum # needed to make 10c\n",
    "    optimal = [[] for i in range(amt+1)]\n",
    "    for amti in range(1, amt+1):\n",
    "        if amti in coins:\n",
    "            mem[amti] = 1\n",
    "        else:\n",
    "            min_coins = amti\n",
    "            for c in coins:\n",
    "                sm_amt = amti - c\n",
    "                if sm_amt > 0:\n",
    "                    min_c = 1 + mem[sm_amt]\n",
    "                    min_coins = min(min_coins, min_c)\n",
    "            for c in coins:\n",
    "                sm_amt = amti - c\n",
    "                if sm_amt > 0:\n",
    "                    min_c = 1 + mem[sm_amt]\n",
    "                    if min_c == min_coins:\n",
    "                        optimal[amti].append(c)\n",
    "            mem[amti] = min_coins\n",
    "    s = Stack()\n",
    "    all_ways = set([])\n",
    "    get_change_coins(optimal, s, amt, all_ways)\n",
    "    return mem[-1], all_ways, optimal"
   ]
  },
  {
   "cell_type": "code",
   "execution_count": null,
   "metadata": {},
   "outputs": [
    {
     "data": {
      "text/plain": [
       "{'1x1,3x1,5x1,10x1,25x3', '3x3,10x1,25x3'}"
      ]
     },
     "execution_count": null,
     "metadata": {},
     "output_type": "execute_result"
    }
   ],
   "source": [
    "m, allways, optimal =min_coins_needed_dyn([1, 3, 5, 10, 25], 94)\n",
    "allways"
   ]
  },
  {
   "cell_type": "markdown",
   "metadata": {},
   "source": [
    "# Build"
   ]
  },
  {
   "cell_type": "code",
   "execution_count": null,
   "metadata": {},
   "outputs": [
    {
     "data": {
      "application/javascript": [
       "IPython.notebook.save_checkpoint();"
      ],
      "text/plain": [
       "<IPython.core.display.Javascript object>"
      ]
     },
     "metadata": {},
     "output_type": "display_data"
    },
    {
     "name": "stdout",
     "output_type": "stream",
     "text": [
      "Converted module11.ipynb.\n"
     ]
    }
   ],
   "source": [
    "build_notebook()"
   ]
  }
 ],
 "metadata": {
  "kernelspec": {
   "display_name": "Python 3",
   "language": "python",
   "name": "python3"
  }
 },
 "nbformat": 4,
 "nbformat_minor": 2
}
