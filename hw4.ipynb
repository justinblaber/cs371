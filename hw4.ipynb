{
 "cells": [
  {
   "cell_type": "code",
   "execution_count": null,
   "metadata": {},
   "outputs": [],
   "source": [
    "# default_exp hw4"
   ]
  },
  {
   "cell_type": "markdown",
   "metadata": {},
   "source": [
    "# Import"
   ]
  },
  {
   "cell_type": "code",
   "execution_count": null,
   "metadata": {},
   "outputs": [],
   "source": [
    "# export\n",
    "import time\n",
    "import warnings\n",
    "import numpy as np\n",
    "import matplotlib.pyplot as plt\n",
    "\n",
    "import librosa\n",
    "import librosa.display\n",
    "\n",
    "from cs371.utils import *"
   ]
  },
  {
   "cell_type": "markdown",
   "metadata": {},
   "source": [
    "# HW4"
   ]
  },
  {
   "cell_type": "code",
   "execution_count": null,
   "metadata": {},
   "outputs": [],
   "source": [
    "def load_rankings(filename=\"data/rankings.txt\"):\n",
    "    \"\"\"\n",
    "    Load all student rankings from a file\n",
    "\n",
    "    Parameters\n",
    "    ----------\n",
    "    filename: string\n",
    "        Path to a file\n",
    "    \n",
    "    Returns\n",
    "    -------\n",
    "    superheros: A list of superheros in alphabetical order\n",
    "    raters: dictionary( \n",
    "        string (Ranker's name): list (This person's ranking as a list of numbers\n",
    "                                      corresponding to the indices in superheros)\n",
    "    )\n",
    "    \"\"\"\n",
    "    superhero_to_num = {}\n",
    "    raters = {}\n",
    "    superheros = []\n",
    "    fin = open(filename)\n",
    "    lines = [L.rstrip() for L in fin.readlines()]\n",
    "    fin.close()\n",
    "    i = 0\n",
    "    N = 9\n",
    "    while (i+1)*N <= len(lines):\n",
    "        rater = lines[i*N]\n",
    "        rankings = lines[i*N+1:(i+1)*N]\n",
    "        if len(superhero_to_num) == 0:\n",
    "            superheros = sorted(rankings)\n",
    "            for k, name in enumerate(superheros):\n",
    "                superhero_to_num[name] = k\n",
    "        raters[rater] = [superhero_to_num[superhero] for superhero in rankings]\n",
    "        i += 1\n",
    "    return superheros, raters"
   ]
  },
  {
   "cell_type": "code",
   "execution_count": null,
   "metadata": {},
   "outputs": [],
   "source": [
    "def plot_mds_distances(raters, random_state=0):\n",
    "    \"\"\"\n",
    "    Compute all pairwise Kendall-Tau distances and plot a dimension \n",
    "    reduction from the Kendall-Tau metric space to 2D to visualize how\n",
    "    similar different raters are\n",
    "\n",
    "    Parameters\n",
    "    ----------\n",
    "    raters: dictionary( \n",
    "        string (Ranker's name): list (This person's ranking as a list of numbers\n",
    "                                      corresponding to the indices in superheros)\n",
    "    random_state: int\n",
    "        A seed to determine which random isometry to use for MDS\n",
    "    \"\"\"\n",
    "    from sklearn.manifold import MDS\n",
    "    N = len(raters)\n",
    "    D = np.zeros((N, N))\n",
    "    rlist = [r for r in raters]\n",
    "    for i, rater1 in enumerate(rlist):\n",
    "        for j in range(i+1, N):\n",
    "            rater2 = rlist[j]\n",
    "            D[i, j] = kendall_tau(raters[rater1], raters[rater2])\n",
    "    D = D+D.T\n",
    "    embedding = MDS(n_components=2, dissimilarity='precomputed', random_state=random_state)\n",
    "    X = embedding.fit_transform(D)\n",
    "    plt.scatter(X[:, 0], X[:, 1])\n",
    "    for i, r in enumerate(rlist):\n",
    "        plt.text(X[i, 0], X[i, 1], r)\n",
    "    plt.title(\"MDS Projected Kendall-Tau Distances\")"
   ]
  },
  {
   "cell_type": "markdown",
   "metadata": {},
   "source": [
    "Try naive approach"
   ]
  },
  {
   "cell_type": "code",
   "execution_count": null,
   "metadata": {},
   "outputs": [],
   "source": [
    "r1 = np.array([0, 4, 3, 1, 2])\n",
    "r2 = np.array([1, 4, 2, 3, 0])"
   ]
  },
  {
   "cell_type": "code",
   "execution_count": null,
   "metadata": {},
   "outputs": [],
   "source": [
    "N = len(r1)"
   ]
  },
  {
   "cell_type": "code",
   "execution_count": null,
   "metadata": {},
   "outputs": [],
   "source": [
    "def kendall_tau_naive(r1, r2):\n",
    "    # Get every possible pair\n",
    "    pairs1, pairs2 = set(), set()\n",
    "    for idx1 in range(N):\n",
    "        for idx2 in range(idx1+1, N):\n",
    "            pairs1.add((r1[idx1], r1[idx2]))\n",
    "            pairs2.add((r2[idx1], r2[idx2]))\n",
    "    # Subtract same pairs from total # of pairs\n",
    "    return (N*(N-1)//2 - len(pairs1.intersection(pairs2)))"
   ]
  },
  {
   "cell_type": "code",
   "execution_count": null,
   "metadata": {},
   "outputs": [
    {
     "data": {
      "text/plain": [
       "7"
      ]
     },
     "execution_count": null,
     "metadata": {},
     "output_type": "execute_result"
    }
   ],
   "source": [
    "kendall_tau_naive(r1, r2)"
   ]
  },
  {
   "cell_type": "markdown",
   "metadata": {},
   "source": [
    "Try sorting and counting number of inversions"
   ]
  },
  {
   "cell_type": "code",
   "execution_count": null,
   "metadata": {},
   "outputs": [],
   "source": [
    "def kendall_tau_naive2(r1, r2):\n",
    "    idx_sort = np.argsort(r1)\n",
    "    r2_inv = idx_sort[r2]\n",
    "    dist = 0\n",
    "    for idx1 in range(N):\n",
    "        for idx2 in range(idx1+1, N):\n",
    "            if r2_inv[idx1] > r2_inv[idx2]:\n",
    "                dist += 1\n",
    "    return dist"
   ]
  },
  {
   "cell_type": "code",
   "execution_count": null,
   "metadata": {},
   "outputs": [
    {
     "data": {
      "text/plain": [
       "7"
      ]
     },
     "execution_count": null,
     "metadata": {},
     "output_type": "execute_result"
    }
   ],
   "source": [
    "kendall_tau_naive2(r1, r2)"
   ]
  },
  {
   "cell_type": "markdown",
   "metadata": {},
   "source": [
    "Try with merge sort. I think we only count inversions when `i2` is incremented?"
   ]
  },
  {
   "cell_type": "code",
   "execution_count": null,
   "metadata": {},
   "outputs": [],
   "source": [
    "def _merge(x1, x2):\n",
    "    x = np.empty(len(x1) + len(x2)) # This should be preallocated and passed thru\n",
    "    i1, i2, num_inversions = 0, 0, 0\n",
    "    while i1 < len(x1) or i2 < len(x2):\n",
    "        if   i1 == len(x1):    # x1 is over\n",
    "            x[i1+i2] = x2[i2]\n",
    "            i2 += 1\n",
    "        elif i2 == len(x2):    # x2 is over\n",
    "            x[i1+i2] = x1[i1]\n",
    "            i1 += 1\n",
    "        else:                  # Both have elements left\n",
    "            if x1[i1] < x2[i2]:\n",
    "                x[i1+i2] = x1[i1]\n",
    "                i1 += 1\n",
    "            else:\n",
    "                x[i1+i2] = x2[i2]\n",
    "                i2 += 1\n",
    "                num_inversions += len(x1) - i1\n",
    "    return x, num_inversions"
   ]
  },
  {
   "cell_type": "markdown",
   "metadata": {},
   "source": [
    "Merging `[1, 3]` and `[0, 2, 4]` should have 3 inversions"
   ]
  },
  {
   "cell_type": "code",
   "execution_count": null,
   "metadata": {},
   "outputs": [
    {
     "data": {
      "text/plain": [
       "(array([0., 1., 2., 3., 4.]), 3)"
      ]
     },
     "execution_count": null,
     "metadata": {},
     "output_type": "execute_result"
    }
   ],
   "source": [
    "_merge([1, 3], [0, 2, 4])"
   ]
  },
  {
   "cell_type": "code",
   "execution_count": null,
   "metadata": {},
   "outputs": [],
   "source": [
    "def mergesort(x):\n",
    "    if len(x) < 2: return x, 0\n",
    "    else:\n",
    "        i_middle = len(x)//2\n",
    "        x1, num_inversions1 = mergesort(x[:i_middle])\n",
    "        x2, num_inversions2 = mergesort(x[i_middle:])\n",
    "        x,  num_inversions3 = _merge(x1, x2)\n",
    "        return x, num_inversions1 + num_inversions2 + num_inversions3"
   ]
  },
  {
   "cell_type": "code",
   "execution_count": null,
   "metadata": {},
   "outputs": [],
   "source": [
    "def kendall_tau_mergesort(r1, r2):\n",
    "    idx_sort = np.argsort(r1)\n",
    "    r2_inv = idx_sort[r2]\n",
    "    _, num_inversions = mergesort(r2_inv)\n",
    "    return num_inversions"
   ]
  },
  {
   "cell_type": "code",
   "execution_count": null,
   "metadata": {},
   "outputs": [
    {
     "data": {
      "text/plain": [
       "7"
      ]
     },
     "execution_count": null,
     "metadata": {},
     "output_type": "execute_result"
    }
   ],
   "source": [
    "kendall_tau_mergesort(r1, r2)"
   ]
  },
  {
   "cell_type": "code",
   "execution_count": null,
   "metadata": {},
   "outputs": [
    {
     "data": {
      "text/plain": [
       "(array([ 7, 10, 12, 18,  8,  1,  5,  4,  0, 14, 17, 16,  9,  2, 13, 19, 15,\n",
       "        11,  3,  6]),\n",
       " array([18,  0, 14, 13,  3,  2,  7,  6, 19, 16, 17,  8, 15, 10,  5,  1, 12,\n",
       "         9, 11,  4]))"
      ]
     },
     "execution_count": null,
     "metadata": {},
     "output_type": "execute_result"
    }
   ],
   "source": [
    "N = 20\n",
    "r1 = np.random.choice(N, N, replace=False)\n",
    "r2 = np.random.choice(N, N, replace=False)\n",
    "r1, r2"
   ]
  },
  {
   "cell_type": "code",
   "execution_count": null,
   "metadata": {},
   "outputs": [
    {
     "data": {
      "text/plain": [
       "99"
      ]
     },
     "execution_count": null,
     "metadata": {},
     "output_type": "execute_result"
    }
   ],
   "source": [
    "kendall_tau_naive(r1, r2)"
   ]
  },
  {
   "cell_type": "code",
   "execution_count": null,
   "metadata": {},
   "outputs": [
    {
     "data": {
      "text/plain": [
       "99"
      ]
     },
     "execution_count": null,
     "metadata": {},
     "output_type": "execute_result"
    }
   ],
   "source": [
    "kendall_tau_naive2(r1, r2)"
   ]
  },
  {
   "cell_type": "code",
   "execution_count": null,
   "metadata": {},
   "outputs": [
    {
     "data": {
      "text/plain": [
       "99"
      ]
     },
     "execution_count": null,
     "metadata": {},
     "output_type": "execute_result"
    }
   ],
   "source": [
    "kendall_tau_mergesort(r1, r2)"
   ]
  },
  {
   "cell_type": "code",
   "execution_count": null,
   "metadata": {},
   "outputs": [
    {
     "data": {
      "text/plain": [
       "(0, 0, 0)"
      ]
     },
     "execution_count": null,
     "metadata": {},
     "output_type": "execute_result"
    }
   ],
   "source": [
    "kendall_tau_naive(r1, r1), kendall_tau_naive2(r1, r1), kendall_tau_mergesort(r1, r1)"
   ]
  },
  {
   "cell_type": "markdown",
   "metadata": {},
   "source": [
    "Looks ok"
   ]
  },
  {
   "cell_type": "code",
   "execution_count": null,
   "metadata": {},
   "outputs": [],
   "source": [
    "def kendall_tau(r1, r2): return kendall_tau_mergesort(r1, r2)"
   ]
  },
  {
   "cell_type": "code",
   "execution_count": null,
   "metadata": {},
   "outputs": [
    {
     "data": {
      "image/png": "[encoded data removed]",
      "text/plain": [
       "<Figure size 864x864 with 1 Axes>"
      ]
     },
     "metadata": {
      "needs_background": "light"
     },
     "output_type": "display_data"
    }
   ],
   "source": [
    "plt.figure(figsize=(12, 12))\n",
    "superheros, raters = load_rankings()\n",
    "plot_mds_distances(raters, 1)\n",
    "plt.show()"
   ]
  },
  {
   "cell_type": "markdown",
   "metadata": {},
   "source": [
    "Diameter code"
   ]
  },
  {
   "cell_type": "code",
   "execution_count": null,
   "metadata": {},
   "outputs": [],
   "source": [
    "def diameter(raters):\n",
    "    N = len(raters)\n",
    "    D = np.full((N, N), -np.inf)\n",
    "    rlist = [r for r in raters]\n",
    "    for i, rater1 in enumerate(rlist):\n",
    "        for j in range(i+1, N):\n",
    "            rater2 = rlist[j]\n",
    "            D[i, j] = kendall_tau(raters[rater1], raters[rater2])\n",
    "    rows, cols = np.where(D == D.max())\n",
    "    diameters = []\n",
    "    for i, j in zip(rows, cols):\n",
    "        diameters.append((rlist[i],rlist[j],D[i,j]))\n",
    "    return diameters"
   ]
  },
  {
   "cell_type": "code",
   "execution_count": null,
   "metadata": {},
   "outputs": [
    {
     "data": {
      "text/plain": [
       "[('Ang', 'Citizen 8', 28.0)]"
      ]
     },
     "execution_count": null,
     "metadata": {},
     "output_type": "execute_result"
    }
   ],
   "source": [
    "diameter(raters)"
   ]
  },
  {
   "cell_type": "markdown",
   "metadata": {},
   "source": [
    "Average Rank Aggregation"
   ]
  },
  {
   "cell_type": "code",
   "execution_count": null,
   "metadata": {},
   "outputs": [],
   "source": [
    "superheros = np.array([\n",
    "    'Captain America',\n",
    "    'Deadpool',\n",
    "    'Dr. Doofenshmirtz',\n",
    "    'Megamind',\n",
    "    'Spiderman',\n",
    "    'The Flash',\n",
    "    'The Joker',\n",
    "    'Thor'\n",
    "])"
   ]
  },
  {
   "cell_type": "code",
   "execution_count": null,
   "metadata": {},
   "outputs": [],
   "source": [
    "def average_rank_aggregation(raters, superheros):\n",
    "    scores = np.zeros(len(superheros))\n",
    "    values = np.arange(len(superheros))[::-1]\n",
    "    for rank in raters.values():\n",
    "        scores[rank] += values\n",
    "    scores /= len(raters)\n",
    "    idx_sort = np.argsort(scores)[::-1]\n",
    "    return idx_sort"
   ]
  },
  {
   "cell_type": "code",
   "execution_count": null,
   "metadata": {},
   "outputs": [],
   "source": [
    "idx_sort = average_rank_aggregation(raters, superheros)"
   ]
  },
  {
   "cell_type": "code",
   "execution_count": null,
   "metadata": {},
   "outputs": [
    {
     "data": {
      "text/plain": [
       "array([4, 1, 6, 0, 7, 2, 3, 5])"
      ]
     },
     "execution_count": null,
     "metadata": {},
     "output_type": "execute_result"
    }
   ],
   "source": [
    "idx_sort"
   ]
  },
  {
   "cell_type": "code",
   "execution_count": null,
   "metadata": {},
   "outputs": [
    {
     "name": "stdout",
     "output_type": "stream",
     "text": [
      "1 : Spiderman\n",
      "2 : Deadpool\n",
      "3 : The Joker\n",
      "4 : Captain America\n",
      "5 : Thor\n",
      "6 : Dr. Doofenshmirtz\n",
      "7 : Megamind\n",
      "8 : The Flash\n"
     ]
    }
   ],
   "source": [
    "for idx, superhero in enumerate(superheros[idx_sort]):\n",
    "    print(f'{idx+1} : {superhero}')"
   ]
  },
  {
   "cell_type": "markdown",
   "metadata": {},
   "source": [
    "Brute Force Kemeny Optimal Ranking"
   ]
  },
  {
   "cell_type": "code",
   "execution_count": null,
   "metadata": {},
   "outputs": [],
   "source": [
    "def _swap(r, idx1, idx2): r[idx1], r[idx2] = r[idx2], r[idx1]"
   ]
  },
  {
   "cell_type": "code",
   "execution_count": null,
   "metadata": {},
   "outputs": [],
   "source": [
    "def _perm(r, idx0=0, min_cost={}):\n",
    "    if idx0 == len(r):\n",
    "        cost = 0\n",
    "        for r_rater in raters.values():\n",
    "            cost += kendall_tau(r, r_rater)\n",
    "        if not min_cost or min_cost['cost'] > cost:\n",
    "            min_cost['cost'] = cost\n",
    "            min_cost['r']    = r.copy()\n",
    "            \n",
    "    for idx in range(idx0, len(r)):\n",
    "        _swap(r, idx0, idx)\n",
    "        _perm(r, idx0+1, min_cost)\n",
    "        _swap(r, idx0, idx)"
   ]
  },
  {
   "cell_type": "code",
   "execution_count": null,
   "metadata": {},
   "outputs": [],
   "source": [
    "min_cost = {}\n",
    "_perm(np.arange(8), min_cost=min_cost)"
   ]
  },
  {
   "cell_type": "code",
   "execution_count": null,
   "metadata": {},
   "outputs": [
    {
     "data": {
      "text/plain": [
       "{'cost': 294, 'r': array([1, 4, 0, 6, 7, 5, 2, 3])}"
      ]
     },
     "execution_count": null,
     "metadata": {},
     "output_type": "execute_result"
    }
   ],
   "source": [
    "min_cost"
   ]
  },
  {
   "cell_type": "code",
   "execution_count": null,
   "metadata": {},
   "outputs": [
    {
     "name": "stdout",
     "output_type": "stream",
     "text": [
      "1 : Deadpool\n",
      "2 : Spiderman\n",
      "3 : Captain America\n",
      "4 : The Joker\n",
      "5 : Thor\n",
      "6 : The Flash\n",
      "7 : Dr. Doofenshmirtz\n",
      "8 : Megamind\n"
     ]
    }
   ],
   "source": [
    "for idx, superhero in enumerate(superheros[min_cost['r']]):\n",
    "    print(f'{idx+1} : {superhero}')"
   ]
  },
  {
   "cell_type": "markdown",
   "metadata": {},
   "source": [
    "# Build"
   ]
  },
  {
   "cell_type": "code",
   "execution_count": null,
   "metadata": {},
   "outputs": [
    {
     "data": {
      "application/javascript": [
       "IPython.notebook.save_checkpoint();"
      ],
      "text/plain": [
       "<IPython.core.display.Javascript object>"
      ]
     },
     "metadata": {},
     "output_type": "display_data"
    },
    {
     "name": "stdout",
     "output_type": "stream",
     "text": [
      "Converted hw4.ipynb.\n"
     ]
    }
   ],
   "source": [
    "build_notebook()"
   ]
  }
 ],
 "metadata": {
  "kernelspec": {
   "display_name": "Python 3",
   "language": "python",
   "name": "python3"
  }
 },
 "nbformat": 4,
 "nbformat_minor": 2
}
