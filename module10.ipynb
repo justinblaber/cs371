{
 "cells": [
  {
   "cell_type": "code",
   "execution_count": null,
   "metadata": {},
   "outputs": [],
   "source": [
    "# default_exp module10"
   ]
  },
  {
   "cell_type": "markdown",
   "metadata": {},
   "source": [
    "# Import"
   ]
  },
  {
   "cell_type": "code",
   "execution_count": null,
   "metadata": {},
   "outputs": [],
   "source": [
    "# export\n",
    "import numpy as np\n",
    "import matplotlib.pyplot as plt\n",
    "\n",
    "from cs371.utils import *"
   ]
  },
  {
   "cell_type": "markdown",
   "metadata": {},
   "source": [
    "# String Edit Distance"
   ]
  },
  {
   "cell_type": "markdown",
   "metadata": {},
   "source": [
    "\n",
    "* Add a character to s1 - costs 1\n",
    "* Delete a character from s1 - costs 1\n",
    "* Swap a character in s1 - costs 1\n",
    "    "
   ]
  },
  {
   "cell_type": "code",
   "execution_count": null,
   "metadata": {},
   "outputs": [],
   "source": [
    "# export\n",
    "def sed_slow(s1, s2):\n",
    "    if   len(s1) == 0: return len(s2) # Just add characters to s1 to match s2\n",
    "    elif len(s2) == 0: return len(s1) # Just add characters to s2 to match s1\n",
    "    else:                             # Both strings are non-empty\n",
    "        return min([\n",
    "            sed_slow(s1[:-1], s2) + 1,                          # Delete char from s1\n",
    "            sed_slow(s1, s2[:-1]) + 1,                          # Delete char from s2\n",
    "            sed_slow(s1[:-1], s2[:-1]) + int(s1[-1] != s2[-1]), # Char either matches or is swapped\n",
    "        ])"
   ]
  },
  {
   "cell_type": "code",
   "execution_count": null,
   "metadata": {},
   "outputs": [
    {
     "data": {
      "text/plain": [
       "3"
      ]
     },
     "execution_count": null,
     "metadata": {},
     "output_type": "execute_result"
    }
   ],
   "source": [
    "sed_slow('chris', 'chase')"
   ]
  },
  {
   "cell_type": "code",
   "execution_count": null,
   "metadata": {},
   "outputs": [
    {
     "data": {
      "text/plain": [
       "4"
      ]
     },
     "execution_count": null,
     "metadata": {},
     "output_type": "execute_result"
    }
   ],
   "source": [
    "sed_slow('school', 'fools')"
   ]
  },
  {
   "cell_type": "code",
   "execution_count": null,
   "metadata": {},
   "outputs": [
    {
     "data": {
      "text/plain": [
       "8"
      ]
     },
     "execution_count": null,
     "metadata": {},
     "output_type": "execute_result"
    }
   ],
   "source": [
    "sed_slow('asdasdasf', 'fgdfgdfgds')"
   ]
  },
  {
   "cell_type": "markdown",
   "metadata": {},
   "source": [
    "more than 1 second"
   ]
  },
  {
   "cell_type": "code",
   "execution_count": null,
   "metadata": {},
   "outputs": [],
   "source": [
    "# export\n",
    "def sed_fast(s1, s2, memory={}):\n",
    "    if frozenset([s1, s2]) in memory: return memory[frozenset([s1, s2])]\n",
    "    \n",
    "    cost = None\n",
    "    if   len(s1) == 0: cost = len(s2) # Just add characters to s1 to match s2\n",
    "    elif len(s2) == 0: cost = len(s1) # Just add characters to s2 to match s1\n",
    "    else:                             # Both strings are non-empty\n",
    "        cost = min([\n",
    "            sed_fast(s1[:-1], s2, memory) + 1,                          # Delete char from s1\n",
    "            sed_fast(s1, s2[:-1], memory) + 1,                          # Delete char from s2\n",
    "            sed_fast(s1[:-1], s2[:-1], memory) + int(s1[-1] != s2[-1]), # Char either matches or is swapped\n",
    "        ])\n",
    "\n",
    "    memory[frozenset([s1, s2])] = cost\n",
    "    return cost"
   ]
  },
  {
   "cell_type": "code",
   "execution_count": null,
   "metadata": {},
   "outputs": [
    {
     "data": {
      "text/plain": [
       "3"
      ]
     },
     "execution_count": null,
     "metadata": {},
     "output_type": "execute_result"
    }
   ],
   "source": [
    "sed_fast('chris', 'chase')"
   ]
  },
  {
   "cell_type": "code",
   "execution_count": null,
   "metadata": {},
   "outputs": [
    {
     "data": {
      "text/plain": [
       "4"
      ]
     },
     "execution_count": null,
     "metadata": {},
     "output_type": "execute_result"
    }
   ],
   "source": [
    "sed_fast('school', 'fools')"
   ]
  },
  {
   "cell_type": "code",
   "execution_count": null,
   "metadata": {},
   "outputs": [
    {
     "data": {
      "text/plain": [
       "8"
      ]
     },
     "execution_count": null,
     "metadata": {},
     "output_type": "execute_result"
    }
   ],
   "source": [
    "sed_fast('asdasdasf', 'fgdfgdfgds')"
   ]
  },
  {
   "cell_type": "markdown",
   "metadata": {},
   "source": [
    "few ms, much faster"
   ]
  },
  {
   "cell_type": "markdown",
   "metadata": {},
   "source": [
    "Use table based dynamic programming approach"
   ]
  },
  {
   "cell_type": "code",
   "execution_count": null,
   "metadata": {},
   "outputs": [],
   "source": [
    "def sed_faster(s1, s2):\n",
    "    arr_dp = np.zeros((len(s1)+1, len(s2)+1), dtype=np.int_)\n",
    "    arr_dp[:,0] = np.arange(len(s1)+1)\n",
    "    arr_dp[0,:] = np.arange(len(s2)+1)\n",
    "    for i in range(1, len(s1)+1):\n",
    "        for j in range(1, len(s2)+1):\n",
    "            c1 = arr_dp[i-1, j] + 1\n",
    "            c2 = arr_dp[i, j-1] + 1\n",
    "            c3 = arr_dp[i-1, j-1] + int(s1[i-1] != s2[j-1])\n",
    "            arr_dp[i, j] = min(c1, c2, c3)\n",
    "    return arr_dp[-1, -1]"
   ]
  },
  {
   "cell_type": "code",
   "execution_count": null,
   "metadata": {},
   "outputs": [
    {
     "data": {
      "text/plain": [
       "3"
      ]
     },
     "execution_count": null,
     "metadata": {},
     "output_type": "execute_result"
    }
   ],
   "source": [
    "sed_faster('chris', 'chase')"
   ]
  },
  {
   "cell_type": "code",
   "execution_count": null,
   "metadata": {},
   "outputs": [
    {
     "data": {
      "text/plain": [
       "4"
      ]
     },
     "execution_count": null,
     "metadata": {},
     "output_type": "execute_result"
    }
   ],
   "source": [
    "sed_faster('school', 'fools')"
   ]
  },
  {
   "cell_type": "code",
   "execution_count": null,
   "metadata": {},
   "outputs": [
    {
     "data": {
      "text/plain": [
       "8"
      ]
     },
     "execution_count": null,
     "metadata": {},
     "output_type": "execute_result"
    }
   ],
   "source": [
    "sed_faster('asdasdasf', 'fgdfgdfgds')"
   ]
  },
  {
   "cell_type": "markdown",
   "metadata": {},
   "source": [
    "Get optimal path (note this only gets one)"
   ]
  },
  {
   "cell_type": "code",
   "execution_count": null,
   "metadata": {},
   "outputs": [],
   "source": [
    "s1, s2 = 'school', 'fools'"
   ]
  },
  {
   "cell_type": "code",
   "execution_count": null,
   "metadata": {},
   "outputs": [],
   "source": [
    "arr_path = np.zeros((len(s1)+1, len(s2)+1), dtype=np.int_)\n",
    "\n",
    "arr_dp   = np.zeros((len(s1)+1, len(s2)+1), dtype=np.int_)\n",
    "arr_dp[:,0] = np.arange(len(s1)+1)\n",
    "arr_dp[0,:] = np.arange(len(s2)+1)\n",
    "for i in range(1, len(s1)+1):\n",
    "    for j in range(1, len(s2)+1):\n",
    "        c1 = arr_dp[i-1, j] + 1\n",
    "        c2 = arr_dp[i, j-1] + 1\n",
    "        c3 = arr_dp[i-1, j-1] + int(s1[i-1] != s2[j-1])\n",
    "        arr_dp[i, j] = min(c1, c2, c3)\n",
    "        \n",
    "        arr_path[i, j] = np.argmin([c1, c2, c3])"
   ]
  },
  {
   "cell_type": "code",
   "execution_count": null,
   "metadata": {},
   "outputs": [
    {
     "data": {
      "text/plain": [
       "array([[0, 0, 0, 0, 0, 0],\n",
       "       [0, 2, 1, 1, 1, 2],\n",
       "       [0, 0, 2, 1, 1, 0],\n",
       "       [0, 0, 0, 2, 1, 1],\n",
       "       [0, 0, 2, 2, 1, 1],\n",
       "       [0, 0, 0, 2, 1, 1],\n",
       "       [0, 0, 0, 0, 2, 1]])"
      ]
     },
     "execution_count": null,
     "metadata": {},
     "output_type": "execute_result"
    }
   ],
   "source": [
    "arr_path"
   ]
  },
  {
   "cell_type": "code",
   "execution_count": null,
   "metadata": {},
   "outputs": [],
   "source": [
    "i, j = len(s1), len(s2)\n",
    "path  = [[i, j]]\n",
    "steps = []\n",
    "while i != 0 and j != 0:\n",
    "    if   arr_path[i, j] == 0:\n",
    "        steps.append(f'delete {s1[i-1]} to {s1}')\n",
    "        i -= 1           \n",
    "    elif arr_path[i, j] == 1: \n",
    "        steps.append(f'add {s2[j-1]} to {s1}')\n",
    "        j -= 1\n",
    "    elif arr_path[i, j] == 2: \n",
    "        if s1[i-1] != s2[j-1]: steps.append(f'swap {s1[i-1]} in {s1} for {s2[j-1]} in {s2}')\n",
    "        else:                  steps.append(f'keep {s1[i-1]} in {s1}')\n",
    "        i -= 1\n",
    "        j -= 1\n",
    "    path.append([i, j])"
   ]
  },
  {
   "cell_type": "code",
   "execution_count": null,
   "metadata": {},
   "outputs": [
    {
     "name": "stdout",
     "output_type": "stream",
     "text": [
      "swap s in school for f in fools\n",
      "delete c to school\n",
      "delete h to school\n",
      "keep o in school\n",
      "keep o in school\n",
      "keep l in school\n",
      "add s to school\n"
     ]
    }
   ],
   "source": [
    "for step in reversed(steps):\n",
    "    print(step)"
   ]
  },
  {
   "cell_type": "code",
   "execution_count": null,
   "metadata": {},
   "outputs": [
    {
     "data": {
      "text/plain": [
       "array([[6, 5],\n",
       "       [6, 4],\n",
       "       [5, 3],\n",
       "       [4, 2],\n",
       "       [3, 1],\n",
       "       [2, 1],\n",
       "       [1, 1],\n",
       "       [0, 0]])"
      ]
     },
     "execution_count": null,
     "metadata": {},
     "output_type": "execute_result"
    }
   ],
   "source": [
    "path = np.array(path)\n",
    "path"
   ]
  },
  {
   "cell_type": "code",
   "execution_count": null,
   "metadata": {},
   "outputs": [
    {
     "data": {
      "text/plain": [
       "[<matplotlib.lines.Line2D at 0x7fed7e231d30>]"
      ]
     },
     "execution_count": null,
     "metadata": {},
     "output_type": "execute_result"
    },
    {
     "data": {
      "image/png": "[encoded data removed]",
      "text/plain": [
       "<Figure size 432x288 with 1 Axes>"
      ]
     },
     "metadata": {
      "needs_background": "light"
     },
     "output_type": "display_data"
    }
   ],
   "source": [
    "plt.imshow(arr_dp)\n",
    "plt.plot(path[:,1], path[:,0], '-rs')"
   ]
  },
  {
   "cell_type": "markdown",
   "metadata": {},
   "source": [
    "Get all paths"
   ]
  },
  {
   "cell_type": "code",
   "execution_count": null,
   "metadata": {},
   "outputs": [],
   "source": [
    "s1, s2 = 'school', 'fools'"
   ]
  },
  {
   "cell_type": "code",
   "execution_count": null,
   "metadata": {},
   "outputs": [],
   "source": [
    "arr_path = [[[] for _ in range(len(s2)+1)] for _ in range(len(s1)+1)]\n",
    "for i in range(1, len(s1)+1): arr_path[i][0].append(0)\n",
    "for j in range(1, len(s2)+1): arr_path[0][j].append(0)\n",
    "\n",
    "arr_dp   = np.zeros((len(s1)+1, len(s2)+1), dtype=np.int_)\n",
    "arr_dp[:,0] = np.arange(len(s1)+1)\n",
    "arr_dp[0,:] = np.arange(len(s2)+1)\n",
    "for i in range(1, len(s1)+1):\n",
    "    for j in range(1, len(s2)+1):\n",
    "        c1 = arr_dp[i-1, j] + 1\n",
    "        c2 = arr_dp[i, j-1] + 1\n",
    "        c3 = arr_dp[i-1, j-1] + int(s1[i-1] != s2[j-1])\n",
    "        arr_dp[i, j] = min(c1, c2, c3)\n",
    "                \n",
    "        if arr_dp[i, j] == c1: arr_path[i][j].append(0)\n",
    "        if arr_dp[i, j] == c2: arr_path[i][j].append(1)\n",
    "        if arr_dp[i, j] == c3: arr_path[i][j].append(2)"
   ]
  },
  {
   "cell_type": "code",
   "execution_count": null,
   "metadata": {},
   "outputs": [
    {
     "data": {
      "text/plain": [
       "[[[], [0], [0], [0], [0], [0]],\n",
       " [[0], [2], [1, 2], [1, 2], [1, 2], [2]],\n",
       " [[0], [0, 2], [2], [1, 2], [1, 2], [0, 1, 2]],\n",
       " [[0], [0, 2], [0, 2], [2], [1, 2], [1, 2]],\n",
       " [[0], [0, 2], [2], [2], [1, 2], [1, 2]],\n",
       " [[0], [0, 2], [0, 2], [2], [1, 2], [1, 2]],\n",
       " [[0], [0, 2], [0], [0], [2], [1]]]"
      ]
     },
     "execution_count": null,
     "metadata": {},
     "output_type": "execute_result"
    }
   ],
   "source": [
    "arr_path"
   ]
  },
  {
   "cell_type": "code",
   "execution_count": null,
   "metadata": {},
   "outputs": [],
   "source": [
    "def _print_paths(arr_path, i, j, path):\n",
    "    \n",
    "    if i == 0 and j == 0: \n",
    "        print(path)\n",
    "        return\n",
    "    \n",
    "    for idx, d in enumerate(arr_path[i][j]):\n",
    "        if   d == 0:\n",
    "            path.append([i-1, j])\n",
    "            _print_paths(arr_path, i-1, j,   path)\n",
    "            path.pop()    \n",
    "        elif d == 1: \n",
    "            path.append([i, j-1])\n",
    "            _print_paths(arr_path, i,   j-1, path)\n",
    "            path.pop()    \n",
    "        elif d == 2: \n",
    "            path.append([i-1, j-1])\n",
    "            _print_paths(arr_path, i-1, j-1, path)\n",
    "            path.pop() "
   ]
  },
  {
   "cell_type": "code",
   "execution_count": null,
   "metadata": {},
   "outputs": [
    {
     "name": "stdout",
     "output_type": "stream",
     "text": [
      "[[6, 5], [6, 4], [5, 3], [4, 2], [3, 1], [2, 1], [1, 1], [0, 0]]\n",
      "[[6, 5], [6, 4], [5, 3], [4, 2], [3, 1], [2, 1], [1, 0], [0, 0]]\n",
      "[[6, 5], [6, 4], [5, 3], [4, 2], [3, 1], [2, 0], [1, 0], [0, 0]]\n"
     ]
    }
   ],
   "source": [
    "path = [[len(s1), len(s2)]]\n",
    "_print_paths(arr_path, len(s1), len(s2), path)"
   ]
  },
  {
   "cell_type": "markdown",
   "metadata": {},
   "source": [
    "# Build"
   ]
  },
  {
   "cell_type": "code",
   "execution_count": null,
   "metadata": {},
   "outputs": [
    {
     "data": {
      "application/javascript": [
       "IPython.notebook.save_checkpoint();"
      ],
      "text/plain": [
       "<IPython.core.display.Javascript object>"
      ]
     },
     "metadata": {},
     "output_type": "display_data"
    },
    {
     "name": "stdout",
     "output_type": "stream",
     "text": [
      "Converted module10.ipynb.\n"
     ]
    }
   ],
   "source": [
    "build_notebook()"
   ]
  }
 ],
 "metadata": {
  "kernelspec": {
   "display_name": "Python 3",
   "language": "python",
   "name": "python3"
  }
 },
 "nbformat": 4,
 "nbformat_minor": 2
}
