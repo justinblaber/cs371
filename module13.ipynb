{
 "cells": [
  {
   "cell_type": "code",
   "execution_count": null,
   "metadata": {},
   "outputs": [],
   "source": [
    "# default_exp module13"
   ]
  },
  {
   "cell_type": "markdown",
   "metadata": {},
   "source": [
    "# Import"
   ]
  },
  {
   "cell_type": "code",
   "execution_count": null,
   "metadata": {},
   "outputs": [],
   "source": [
    "# export\n",
    "import numpy as np\n",
    "import matplotlib.pyplot as plt\n",
    "\n",
    "from cs371.utils import *"
   ]
  },
  {
   "cell_type": "markdown",
   "metadata": {},
   "source": [
    "# Longest common subsequence"
   ]
  },
  {
   "cell_type": "code",
   "execution_count": null,
   "metadata": {},
   "outputs": [],
   "source": [
    "def LCS(s1, s2, memory={}):\n",
    "    if len(s1) == 0 or len(s2) == 0:\n",
    "        return 0\n",
    "    if s1[-1] == s2[-1]:\n",
    "        if (s1[:-1], s2[:-1]) not in memory:\n",
    "            memory[(s1[:-1], s2[:-1])] = LCS(s1[:-1], s2[:-1], memory)\n",
    "        return 1 + memory[(s1[:-1], s2[:-1])]\n",
    "    else:\n",
    "        if (s1[:-1], s2) not in memory:\n",
    "            memory[(s1[:-1], s2)] = LCS(s1[:-1], s2, memory)\n",
    "        if (s1, s2[:-1]) not in memory:\n",
    "            memory[(s1, s2[:-1])] = LCS(s1, s2[:-1], memory)\n",
    "        return max(memory[(s1[:-1], s2)], memory[(s1, s2[:-1])])"
   ]
  },
  {
   "cell_type": "code",
   "execution_count": null,
   "metadata": {},
   "outputs": [
    {
     "data": {
      "text/plain": [
       "(5,\n",
       " {('', 'phones'): 0,\n",
       "  ('', 'phone'): 0,\n",
       "  ('', 'phon'): 0,\n",
       "  ('', 'pho'): 0,\n",
       "  ('', 'ph'): 0,\n",
       "  ('', ''): 0,\n",
       "  ('p', 'p'): 1,\n",
       "  ('p', 'ph'): 1,\n",
       "  ('p', 'pho'): 1,\n",
       "  ('p', 'phon'): 1,\n",
       "  ('p', 'phone'): 1,\n",
       "  ('p', 'phones'): 1,\n",
       "  ('ph', 'ph'): 2,\n",
       "  ('ph', 'pho'): 2,\n",
       "  ('ph', 'phon'): 2,\n",
       "  ('ph', 'phone'): 2,\n",
       "  ('ph', 'phones'): 2,\n",
       "  ('pho', 'pho'): 3,\n",
       "  ('pho', 'phon'): 3,\n",
       "  ('pho', 'phone'): 3,\n",
       "  ('pho', 'phones'): 3,\n",
       "  ('phon', 'phon'): 4,\n",
       "  ('phon', 'phone'): 4,\n",
       "  ('phon', 'phones'): 4,\n",
       "  ('phone', 'phone'): 5})"
      ]
     },
     "execution_count": null,
     "metadata": {},
     "output_type": "execute_result"
    }
   ],
   "source": [
    "memory = {}\n",
    "LCS('phone', 'phones', memory), memory"
   ]
  },
  {
   "cell_type": "code",
   "execution_count": null,
   "metadata": {},
   "outputs": [
    {
     "data": {
      "text/plain": [
       "(3,\n",
       " {('', 'f'): 0,\n",
       "  ('s', ''): 0,\n",
       "  ('s', 'f'): 0,\n",
       "  ('sc', ''): 0,\n",
       "  ('sc', 'f'): 0,\n",
       "  ('sch', ''): 0,\n",
       "  ('sch', 'f'): 0,\n",
       "  ('scho', 'fo'): 1,\n",
       "  ('schoo', 'foo'): 2})"
      ]
     },
     "execution_count": null,
     "metadata": {},
     "output_type": "execute_result"
    }
   ],
   "source": [
    "memory = {}\n",
    "LCS('school', 'fool', memory), memory"
   ]
  },
  {
   "cell_type": "code",
   "execution_count": null,
   "metadata": {},
   "outputs": [
    {
     "data": {
      "text/plain": [
       "16"
      ]
     },
     "execution_count": null,
     "metadata": {},
     "output_type": "execute_result"
    }
   ],
   "source": [
    "LCS('rules are not all that great', \n",
    "    'Ursinus college students are great students')"
   ]
  },
  {
   "cell_type": "code",
   "execution_count": null,
   "metadata": {},
   "outputs": [],
   "source": [
    "def LCS_dyn(s1, s2):\n",
    "    M = len(s1)\n",
    "    N = len(s2)\n",
    "    arr_dyn = np.zeros((M, N), dtype=np.int_)\n",
    "    for i in range(M):\n",
    "        for j in range(N):\n",
    "            if s1[i] == s2[j]:\n",
    "                res = 1\n",
    "                if i > 0 and j > 0:\n",
    "                    res += arr_dyn[i-1, j-1]\n",
    "            else:\n",
    "                res1 = 0\n",
    "                res2 = 0\n",
    "                if i > 0:\n",
    "                    res1 = arr_dyn[i-1, j]\n",
    "                if j > 0:\n",
    "                    res2 = arr_dyn[i, j-1]\n",
    "                res = max(res1, res2)\n",
    "            arr_dyn[i, j] = res\n",
    "    return arr_dyn[-1, -1]"
   ]
  },
  {
   "cell_type": "code",
   "execution_count": null,
   "metadata": {},
   "outputs": [
    {
     "data": {
      "text/plain": [
       "5"
      ]
     },
     "execution_count": null,
     "metadata": {},
     "output_type": "execute_result"
    }
   ],
   "source": [
    "LCS_dyn('phone', 'phones')"
   ]
  },
  {
   "cell_type": "code",
   "execution_count": null,
   "metadata": {},
   "outputs": [
    {
     "data": {
      "text/plain": [
       "3"
      ]
     },
     "execution_count": null,
     "metadata": {},
     "output_type": "execute_result"
    }
   ],
   "source": [
    "LCS_dyn('school', 'fool')"
   ]
  },
  {
   "cell_type": "code",
   "execution_count": null,
   "metadata": {},
   "outputs": [
    {
     "data": {
      "text/plain": [
       "16"
      ]
     },
     "execution_count": null,
     "metadata": {},
     "output_type": "execute_result"
    }
   ],
   "source": [
    "LCS_dyn('rules are not all that great', \n",
    "        'Ursinus college students are great students')"
   ]
  },
  {
   "cell_type": "markdown",
   "metadata": {},
   "source": [
    "# Build"
   ]
  },
  {
   "cell_type": "code",
   "execution_count": null,
   "metadata": {},
   "outputs": [
    {
     "data": {
      "application/javascript": [
       "IPython.notebook.save_checkpoint();"
      ],
      "text/plain": [
       "<IPython.core.display.Javascript object>"
      ]
     },
     "metadata": {},
     "output_type": "display_data"
    },
    {
     "name": "stdout",
     "output_type": "stream",
     "text": [
      "Converted module13.ipynb.\n"
     ]
    }
   ],
   "source": [
    "build_notebook()"
   ]
  }
 ],
 "metadata": {
  "kernelspec": {
   "display_name": "Python 3",
   "language": "python",
   "name": "python3"
  }
 },
 "nbformat": 4,
 "nbformat_minor": 2
}
