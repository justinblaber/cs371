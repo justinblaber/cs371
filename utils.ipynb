{
 "cells": [
  {
   "cell_type": "code",
   "execution_count": null,
   "metadata": {},
   "outputs": [],
   "source": [
    "# default_exp utils"
   ]
  },
  {
   "cell_type": "markdown",
   "metadata": {},
   "source": [
    "# Import"
   ]
  },
  {
   "cell_type": "code",
   "execution_count": null,
   "metadata": {},
   "outputs": [],
   "source": [
    "# export\n",
    "import re\n",
    "import json\n",
    "import time\n",
    "import hashlib\n",
    "from pathlib import Path\n",
    "\n",
    "import numpy\n",
    "import numba\n",
    "import requests\n",
    "import seaborn as sns\n",
    "\n",
    "import ipykernel\n",
    "import nbdev.export\n",
    "from IPython.display import Javascript\n",
    "from notebook.notebookapp import list_running_servers"
   ]
  },
  {
   "cell_type": "code",
   "execution_count": null,
   "metadata": {},
   "outputs": [],
   "source": [
    "from IPython.core.debugger import set_trace"
   ]
  },
  {
   "cell_type": "markdown",
   "metadata": {},
   "source": [
    "# Tests"
   ]
  },
  {
   "cell_type": "markdown",
   "metadata": {},
   "source": [
    "`assert_allclose` checks if two things, `A` and `B`, are close to each other.\n",
    "\n",
    "NOTE: I'm assuming the format of the inputs is the same; if not I'm assuming this is programmer error."
   ]
  },
  {
   "cell_type": "code",
   "execution_count": null,
   "metadata": {},
   "outputs": [],
   "source": [
    "# export\n",
    "def assert_allclose(A, B, **kwargs):\n",
    "    if isinstance(A, tuple):            \n",
    "        for a,b in zip(A,B): assert_allclose(a, b, **kwargs) # Possibly add \"strict\" keyword here\n",
    "    elif isinstance(A, dict):           \n",
    "        for key in A.keys() | B.keys(): assert_allclose(A[key], B[key], **kwargs)\n",
    "    else:\n",
    "        try:    assert(numpy.allclose(A, B, **kwargs))\n",
    "        except: assert(numpy.all(A == B))"
   ]
  },
  {
   "cell_type": "code",
   "execution_count": null,
   "metadata": {},
   "outputs": [
    {
     "data": {
      "text/plain": [
       "(array([3.71269385, 4.66301704]),\n",
       " array([[ 0.27805078,  0.24093853,  0.1467166 ],\n",
       "        [ 0.27100758,  3.53675506, -1.06275044],\n",
       "        [-0.87741841, -2.63217781,  0.27159406],\n",
       "        [ 1.12366099,  0.60327153, -0.14242279]]))"
      ]
     },
     "execution_count": null,
     "metadata": {},
     "output_type": "execute_result"
    }
   ],
   "source": [
    "A = numpy.random.normal((4,3))\n",
    "B = numpy.random.normal(size=(4,3))\n",
    "A, B"
   ]
  },
  {
   "cell_type": "code",
   "execution_count": null,
   "metadata": {},
   "outputs": [],
   "source": [
    "assert_allclose(A, A+1e-5, atol=1e-5)\n",
    "assert_allclose((A, (B, {'test': 1.})), (A+1e-5, (B+1e-5, {'test': 1 + 1e-5})), atol=1e-5)"
   ]
  },
  {
   "cell_type": "markdown",
   "metadata": {},
   "source": [
    "# Image processing"
   ]
  },
  {
   "cell_type": "code",
   "execution_count": null,
   "metadata": {},
   "outputs": [],
   "source": [
    "# export\n",
    "def rgb2gray(arr): # From Pillow documentation\n",
    "    return arr[:,:,0]*(299/1000) + arr[:,:,1]*(587/1000) + arr[:,:,2]*(114/1000)"
   ]
  },
  {
   "cell_type": "markdown",
   "metadata": {},
   "source": [
    "# Plotting"
   ]
  },
  {
   "cell_type": "code",
   "execution_count": null,
   "metadata": {},
   "outputs": [],
   "source": [
    "# export\n",
    "def get_colors(n): return sns.color_palette(None, n)"
   ]
  },
  {
   "cell_type": "markdown",
   "metadata": {},
   "source": [
    "# Notebook stuff"
   ]
  },
  {
   "cell_type": "markdown",
   "metadata": {},
   "source": [
    "These are kind of hacky, but I like being able to rerun a notebook and have it auto save/build/convert at the end"
   ]
  },
  {
   "cell_type": "code",
   "execution_count": null,
   "metadata": {},
   "outputs": [],
   "source": [
    "# export\n",
    "def get_notebook_file():\n",
    "    id_kernel = re.search('kernel-(.*).json', ipykernel.connect.get_connection_file()).group(1)\n",
    "    for server in list_running_servers():\n",
    "        response = requests.get(requests.compat.urljoin(server['url'], 'api/sessions'),\n",
    "                                params={'token': server.get('token', '')})\n",
    "        for r in json.loads(response.text):\n",
    "            if 'kernel' in r and r['kernel']['id'] == id_kernel:\n",
    "                return Path(r['notebook']['path'])"
   ]
  },
  {
   "cell_type": "code",
   "execution_count": null,
   "metadata": {},
   "outputs": [],
   "source": [
    "assert_allclose(get_notebook_file().as_posix(), 'utils.ipynb')"
   ]
  },
  {
   "cell_type": "code",
   "execution_count": null,
   "metadata": {},
   "outputs": [],
   "source": [
    "# export\n",
    "def save_notebook():\n",
    "    file_notebook = get_notebook_file()\n",
    "    _get_md5 = lambda : hashlib.md5(file_notebook.read_bytes()).hexdigest() \n",
    "    md5_start = _get_md5()\n",
    "    display(Javascript('IPython.notebook.save_checkpoint();')) # Asynchronous\n",
    "    while md5_start == _get_md5(): time.sleep(1e-1)"
   ]
  },
  {
   "cell_type": "code",
   "execution_count": null,
   "metadata": {},
   "outputs": [],
   "source": [
    "# export\n",
    "def build_notebook(save=True):\n",
    "    if save: save_notebook()\n",
    "    nbdev.export.notebook2script(fname=get_notebook_file().as_posix())"
   ]
  },
  {
   "cell_type": "code",
   "execution_count": null,
   "metadata": {},
   "outputs": [],
   "source": [
    "# export\n",
    "def convert_notebook(save=True, t='markdown'):\n",
    "    if save: save_notebook()\n",
    "    os.system(f'jupyter nbconvert --to {t} {get_notebook_file().as_posix()}')"
   ]
  },
  {
   "cell_type": "markdown",
   "metadata": {},
   "source": [
    "# Build"
   ]
  },
  {
   "cell_type": "code",
   "execution_count": null,
   "metadata": {},
   "outputs": [
    {
     "data": {
      "application/javascript": [
       "IPython.notebook.save_checkpoint();"
      ],
      "text/plain": [
       "<IPython.core.display.Javascript object>"
      ]
     },
     "metadata": {},
     "output_type": "display_data"
    },
    {
     "name": "stdout",
     "output_type": "stream",
     "text": [
      "Converted utils.ipynb.\n"
     ]
    }
   ],
   "source": [
    "build_notebook()"
   ]
  }
 ],
 "metadata": {
  "kernelspec": {
   "display_name": "Python 3",
   "language": "python",
   "name": "python3"
  }
 },
 "nbformat": 4,
 "nbformat_minor": 2
}
