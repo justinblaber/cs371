{
 "cells": [
  {
   "cell_type": "code",
   "execution_count": null,
   "metadata": {},
   "outputs": [],
   "source": [
    "# default_exp module14"
   ]
  },
  {
   "cell_type": "markdown",
   "metadata": {},
   "source": [
    "# Import"
   ]
  },
  {
   "cell_type": "code",
   "execution_count": null,
   "metadata": {},
   "outputs": [],
   "source": [
    "# export\n",
    "import numpy as np\n",
    "import matplotlib.pyplot as plt\n",
    "\n",
    "from cs371.utils import *"
   ]
  },
  {
   "cell_type": "markdown",
   "metadata": {},
   "source": [
    "# Sorting"
   ]
  },
  {
   "cell_type": "code",
   "execution_count": null,
   "metadata": {},
   "outputs": [],
   "source": [
    "def is_sorted(X):\n",
    "    for i in range(len(X)-1):\n",
    "        if X[i+1] < X[i]:\n",
    "            return False\n",
    "    return True"
   ]
  },
  {
   "cell_type": "code",
   "execution_count": null,
   "metadata": {},
   "outputs": [
    {
     "data": {
      "text/plain": [
       "True"
      ]
     },
     "execution_count": null,
     "metadata": {},
     "output_type": "execute_result"
    }
   ],
   "source": [
    "is_sorted([1, 2, 3])"
   ]
  },
  {
   "cell_type": "code",
   "execution_count": null,
   "metadata": {},
   "outputs": [
    {
     "data": {
      "text/plain": [
       "False"
      ]
     },
     "execution_count": null,
     "metadata": {},
     "output_type": "execute_result"
    }
   ],
   "source": [
    "is_sorted([1, 3, 2])"
   ]
  },
  {
   "cell_type": "code",
   "execution_count": null,
   "metadata": {},
   "outputs": [],
   "source": [
    "def swap(arr, i, j):\n",
    "    temp = arr[j]\n",
    "    arr[j] = arr[i]\n",
    "    arr[i] = temp"
   ]
  },
  {
   "cell_type": "code",
   "execution_count": null,
   "metadata": {},
   "outputs": [],
   "source": [
    "def perm(arr, idx = 0):\n",
    "    if idx == len(arr)-1:\n",
    "        print(arr)\n",
    "    else:\n",
    "        for i in range(idx, len(arr)):\n",
    "            swap(arr, i, idx)\n",
    "            perm(arr, idx+1)\n",
    "            swap(arr, i, idx)"
   ]
  },
  {
   "cell_type": "code",
   "execution_count": null,
   "metadata": {},
   "outputs": [
    {
     "name": "stdout",
     "output_type": "stream",
     "text": [
      "[0, 1, 2]\n",
      "[0, 2, 1]\n",
      "[1, 0, 2]\n",
      "[1, 2, 0]\n",
      "[2, 1, 0]\n",
      "[2, 0, 1]\n"
     ]
    }
   ],
   "source": [
    "perm([0,1,2])"
   ]
  },
  {
   "cell_type": "code",
   "execution_count": null,
   "metadata": {},
   "outputs": [],
   "source": [
    "def perm_sort(arr):\n",
    "    def _perm(arr, arr_sorted, idx=0):\n",
    "        if idx == len(arr)-1:\n",
    "            if is_sorted(arr):\n",
    "                arr_sorted[:] = arr[:]\n",
    "        else:\n",
    "            for i in range(idx, len(arr)):\n",
    "                swap(arr, i, idx)\n",
    "                _perm(arr, arr_sorted, idx+1)\n",
    "                swap(arr, i, idx)\n",
    "\n",
    "    arr_sorted = arr.copy()\n",
    "    _perm(arr, arr_sorted)\n",
    "    return arr_sorted"
   ]
  },
  {
   "cell_type": "code",
   "execution_count": null,
   "metadata": {},
   "outputs": [
    {
     "data": {
      "text/plain": [
       "[0, 1, 2, 3, 5, 8]"
      ]
     },
     "execution_count": null,
     "metadata": {},
     "output_type": "execute_result"
    }
   ],
   "source": [
    "arr_sorted = perm_sort([0,2,1,5,8,3])\n",
    "arr_sorted"
   ]
  },
  {
   "cell_type": "markdown",
   "metadata": {},
   "source": [
    "Try Bubble Sort"
   ]
  },
  {
   "cell_type": "code",
   "execution_count": null,
   "metadata": {},
   "outputs": [],
   "source": [
    "def bubble(arr):\n",
    "    N = len(arr)\n",
    "    did_swap = True\n",
    "    while did_swap:\n",
    "        did_swap = False \n",
    "        for i in range(N-1):\n",
    "            if arr[i] > arr[i+1]:\n",
    "                swap(arr, i, i+1)\n",
    "                did_swap = True\n",
    "    return arr"
   ]
  },
  {
   "cell_type": "code",
   "execution_count": null,
   "metadata": {},
   "outputs": [
    {
     "data": {
      "text/plain": [
       "[2, 4, 5]"
      ]
     },
     "execution_count": null,
     "metadata": {},
     "output_type": "execute_result"
    }
   ],
   "source": [
    "bubble([5, 2, 4])"
   ]
  },
  {
   "cell_type": "markdown",
   "metadata": {},
   "source": [
    "Insertion Sort"
   ]
  },
  {
   "cell_type": "code",
   "execution_count": null,
   "metadata": {},
   "outputs": [],
   "source": [
    "def insertionsort(arr):\n",
    "    for i in range(1, len(arr)):\n",
    "        j = i\n",
    "        while j > 0 and arr[j-1] > arr[j]:\n",
    "            swap(arr, j-1, j)\n",
    "            j -= 1\n",
    "    return arr"
   ]
  },
  {
   "cell_type": "code",
   "execution_count": null,
   "metadata": {},
   "outputs": [
    {
     "data": {
      "text/plain": [
       "[1, 2, 3, 4, 5]"
      ]
     },
     "execution_count": null,
     "metadata": {},
     "output_type": "execute_result"
    }
   ],
   "source": [
    "insertionsort([4, 1, 2, 3, 5])"
   ]
  },
  {
   "cell_type": "markdown",
   "metadata": {},
   "source": [
    "mergesort"
   ]
  },
  {
   "cell_type": "code",
   "execution_count": null,
   "metadata": {},
   "outputs": [],
   "source": [
    "def _merge(x1, x2):\n",
    "    x = np.zeros(len(x1) + len(x2))\n",
    "    i1, i2 = 0, 0\n",
    "    while i1 < len(x1) or i2 < len(x2):\n",
    "        if   i1 == len(x1):    # x1 is over\n",
    "            x[i1+i2] = x2[i2]\n",
    "            i2 += 1\n",
    "        elif i2 == len(x2):    # x2 is over\n",
    "            x[i1+i2] = x1[i1]\n",
    "            i1 += 1\n",
    "        else:                  # Both have elements left\n",
    "            if x1[i1] < x2[i2]:\n",
    "                x[i1+i2] = x1[i1]\n",
    "                i1 += 1\n",
    "            else:\n",
    "                x[i1+i2] = x2[i2]\n",
    "                i2 += 1\n",
    "    return x"
   ]
  },
  {
   "cell_type": "code",
   "execution_count": null,
   "metadata": {},
   "outputs": [
    {
     "data": {
      "text/plain": [
       "array([1., 2., 5., 6., 7.])"
      ]
     },
     "execution_count": null,
     "metadata": {},
     "output_type": "execute_result"
    }
   ],
   "source": [
    "_merge([1,5,7],[2,6])"
   ]
  },
  {
   "cell_type": "code",
   "execution_count": null,
   "metadata": {},
   "outputs": [],
   "source": [
    "def mergesort(x):\n",
    "    if len(x) < 2: return x\n",
    "    else:\n",
    "        i_middle = len(x)//2\n",
    "        x1 = mergesort(x[:i_middle])\n",
    "        x2 = mergesort(x[i_middle:])\n",
    "        return _merge(x1, x2)"
   ]
  },
  {
   "cell_type": "code",
   "execution_count": null,
   "metadata": {},
   "outputs": [
    {
     "data": {
      "text/plain": [
       "array([ 1.,  5.,  6.,  9., 11., 12., 16., 18., 20., 25., 28., 37., 50.,\n",
       "       64., 71., 72., 75., 76., 79., 84.])"
      ]
     },
     "execution_count": null,
     "metadata": {},
     "output_type": "execute_result"
    }
   ],
   "source": [
    "x = mergesort([37, 12, 72, 9, 75, 5, 79, 64, 16, 1, 76, 71, 6, 25, 50, 20, 18, 84, 11, 28])\n",
    "x"
   ]
  },
  {
   "cell_type": "code",
   "execution_count": null,
   "metadata": {},
   "outputs": [
    {
     "data": {
      "text/plain": [
       "True"
      ]
     },
     "execution_count": null,
     "metadata": {},
     "output_type": "execute_result"
    }
   ],
   "source": [
    "is_sorted(x)"
   ]
  },
  {
   "cell_type": "markdown",
   "metadata": {},
   "source": [
    "quicksort"
   ]
  },
  {
   "cell_type": "code",
   "execution_count": null,
   "metadata": {},
   "outputs": [],
   "source": [
    "def _quicksort(x, idx1, idx2):\n",
    "    if idx2-idx1 < 1: return\n",
    "    else:\n",
    "        swap(x, idx1, (idx2+idx1)//2) # Swap pivot for first index\n",
    "        idx_piv = idx1\n",
    "        for idx in range(idx1+1, idx2+1):\n",
    "            if x[idx] < x[idx_piv]:\n",
    "                swap(x, idx, idx_piv)\n",
    "                swap(x, idx, idx_piv+1)\n",
    "                idx_piv += 1\n",
    "        _quicksort(x, idx1, idx_piv-1)\n",
    "        _quicksort(x, idx_piv+1, idx2)"
   ]
  },
  {
   "cell_type": "code",
   "execution_count": null,
   "metadata": {},
   "outputs": [],
   "source": [
    "def quicksort(x): \n",
    "    _quicksort(x, 0, len(x)-1)\n",
    "    return x"
   ]
  },
  {
   "cell_type": "code",
   "execution_count": null,
   "metadata": {},
   "outputs": [
    {
     "data": {
      "text/plain": [
       "[1, 1, 3, 4, 5, 10, 14, 20]"
      ]
     },
     "execution_count": null,
     "metadata": {},
     "output_type": "execute_result"
    }
   ],
   "source": [
    "x = [1, 10, 5, 3, 14, 4, 1, 20]\n",
    "quicksort(x)"
   ]
  },
  {
   "cell_type": "code",
   "execution_count": null,
   "metadata": {},
   "outputs": [
    {
     "data": {
      "text/plain": [
       "True"
      ]
     },
     "execution_count": null,
     "metadata": {},
     "output_type": "execute_result"
    }
   ],
   "source": [
    "is_sorted(x)"
   ]
  },
  {
   "cell_type": "code",
   "execution_count": null,
   "metadata": {},
   "outputs": [],
   "source": []
  },
  {
   "cell_type": "code",
   "execution_count": null,
   "metadata": {},
   "outputs": [],
   "source": []
  },
  {
   "cell_type": "code",
   "execution_count": null,
   "metadata": {},
   "outputs": [],
   "source": []
  },
  {
   "cell_type": "code",
   "execution_count": null,
   "metadata": {},
   "outputs": [],
   "source": [
    "def foo(x):\n",
    "    x[0] = 100"
   ]
  },
  {
   "cell_type": "code",
   "execution_count": null,
   "metadata": {},
   "outputs": [],
   "source": [
    "foo(x[4:])"
   ]
  },
  {
   "cell_type": "code",
   "execution_count": null,
   "metadata": {},
   "outputs": [],
   "source": [
    "foo(x)"
   ]
  },
  {
   "cell_type": "code",
   "execution_count": null,
   "metadata": {},
   "outputs": [
    {
     "data": {
      "text/plain": [
       "[100, 5, 3, 1, 4, 1, 14, 20]"
      ]
     },
     "execution_count": null,
     "metadata": {},
     "output_type": "execute_result"
    }
   ],
   "source": [
    "x"
   ]
  },
  {
   "cell_type": "markdown",
   "metadata": {},
   "source": [
    "# Build"
   ]
  },
  {
   "cell_type": "code",
   "execution_count": null,
   "metadata": {},
   "outputs": [
    {
     "data": {
      "application/javascript": [
       "IPython.notebook.save_checkpoint();"
      ],
      "text/plain": [
       "<IPython.core.display.Javascript object>"
      ]
     },
     "metadata": {},
     "output_type": "display_data"
    },
    {
     "name": "stdout",
     "output_type": "stream",
     "text": [
      "Converted module14.ipynb.\n"
     ]
    }
   ],
   "source": [
    "build_notebook()"
   ]
  }
 ],
 "metadata": {
  "kernelspec": {
   "display_name": "Python 3",
   "language": "python",
   "name": "python3"
  }
 },
 "nbformat": 4,
 "nbformat_minor": 2
}
