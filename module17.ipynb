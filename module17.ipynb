{
 "cells": [
  {
   "cell_type": "code",
   "execution_count": null,
   "metadata": {},
   "outputs": [],
   "source": [
    "# default_exp module17"
   ]
  },
  {
   "cell_type": "markdown",
   "metadata": {},
   "source": [
    "# Import"
   ]
  },
  {
   "cell_type": "code",
   "execution_count": null,
   "metadata": {},
   "outputs": [],
   "source": [
    "# export\n",
    "import numpy as np\n",
    "import matplotlib.pyplot as plt\n",
    "\n",
    "from cs371.utils import *"
   ]
  },
  {
   "cell_type": "markdown",
   "metadata": {},
   "source": [
    "# Binary Tree"
   ]
  },
  {
   "cell_type": "code",
   "execution_count": null,
   "metadata": {},
   "outputs": [],
   "source": [
    "class TreeNode:\n",
    "    def __init__(self, val):\n",
    "        self.val = val\n",
    "        self.L, self.R = None, None"
   ]
  },
  {
   "cell_type": "code",
   "execution_count": null,
   "metadata": {},
   "outputs": [],
   "source": [
    "class BinaryTree:\n",
    "    def __init__(self):\n",
    "        self.root = None\n",
    "        \n",
    "    def _draw(self, node, x, y, step_x, step_y):\n",
    "        plt.plot(x, y)\n",
    "        plt.text(x, y, str(node.val))\n",
    "        if node.L:\n",
    "            plt.plot([x, x-step_x], [y, y+step_y], '-r')\n",
    "            self._draw(node.L, x-step_x, y+step_y, step_x/2, step_y)\n",
    "        if node.R: \n",
    "            plt.plot([x, x+step_x], [y, y+step_y], '-r')\n",
    "            self._draw(node.R, x+step_x, y+step_y, step_x/2, step_y)\n",
    "    \n",
    "    def draw(self):\n",
    "        if self.root:\n",
    "            self._draw(self.root, 0, 0, 1, -1)\n",
    "    \n",
    "    def _inorder(self, node):\n",
    "        if node.L: self._inorder(node.L)\n",
    "        print(node.val)\n",
    "        if node.R: self._inorder(node.R)\n",
    "    \n",
    "    def inorder(self):\n",
    "        if self.root: self._inorder(self.root)\n",
    "            \n",
    "    def _add(self, node, val):\n",
    "        if val < node.val:\n",
    "            if node.L: self._add(node.L, val)\n",
    "            else:      node.L = TreeNode(val)\n",
    "        else:\n",
    "            if node.R: self._add(node.R, val)\n",
    "            else:      node.R = TreeNode(val)\n",
    "            \n",
    "    def add(self, val):\n",
    "        if self.root: \n",
    "            self._add(self.root, val)\n",
    "        else:\n",
    "            self.root = TreeNode(val)\n",
    "            \n",
    "    def _get_max(self, node):\n",
    "        if node.R: return self._get_max(node.R)\n",
    "        else:      return node.val\n",
    "         \n",
    "    def _remove(self, node, val):\n",
    "        if val < node.val: # Check left subtree\n",
    "            if node.L:\n",
    "                if node.L.val == val:\n",
    "                    if node.L.L and node.L.R:\n",
    "                        val_max = self._get_max(node.L.L)\n",
    "                        self._remove(node.L, val_max)\n",
    "                        node.L.val = val_max                        \n",
    "                    elif node.L.L: node.L = node.L.L\n",
    "                    elif node.L.R: node.L = node.L.R\n",
    "                    else:          node.L = None\n",
    "                else:\n",
    "                    self._remove(node.L, val)\n",
    "        else:              # Check right subtree\n",
    "            if node.R:\n",
    "                if node.R.val == val:\n",
    "                    if node.R.L and node.R.R:\n",
    "                        val_max = self._get_max(node.R.L)\n",
    "                        self._remove(node.R, val_max)\n",
    "                        node.R.val = val_max   \n",
    "                    elif node.R.L: node.R = node.R.L\n",
    "                    elif node.R.R: node.R = node.R.R\n",
    "                    else:          node.R = None\n",
    "                        \n",
    "                else:\n",
    "                    self._remove(node.R, val)        \n",
    "    \n",
    "    def remove(self, val):\n",
    "        if self.root:\n",
    "            if self.root.val == val:\n",
    "                if self.root.L and self.root.R:\n",
    "                    val_max = self._get_max(self.root.L)\n",
    "                    self._remove(self.root, val_max)\n",
    "                    self.root.val = val_max                        \n",
    "                elif self.root.L: self.root = self.root.L\n",
    "                elif self.root.R: self.root = self.root.R\n",
    "                else:             self.root = None\n",
    "            else:                \n",
    "                self._remove(self.root, val)"
   ]
  },
  {
   "cell_type": "code",
   "execution_count": null,
   "metadata": {},
   "outputs": [],
   "source": [
    "ten     = TreeNode(10)\n",
    "seven   = TreeNode(7)\n",
    "fifteen = TreeNode(15)\n",
    "three   = TreeNode(3)\n",
    "twelve  = TreeNode(12)\n",
    "twenty  = TreeNode(20)"
   ]
  },
  {
   "cell_type": "code",
   "execution_count": null,
   "metadata": {},
   "outputs": [],
   "source": [
    "tree = BinaryTree()"
   ]
  },
  {
   "cell_type": "code",
   "execution_count": null,
   "metadata": {},
   "outputs": [],
   "source": [
    "tree.root = ten\n",
    "ten.L     = seven\n",
    "ten.R     = fifteen\n",
    "seven.L   = three\n",
    "fifteen.L = twelve\n",
    "fifteen.R = twenty"
   ]
  },
  {
   "cell_type": "code",
   "execution_count": null,
   "metadata": {},
   "outputs": [],
   "source": [
    "def traverse(node):\n",
    "    if node.L:\n",
    "        traverse(node.L)\n",
    "    print(node.val)\n",
    "    if node.R:\n",
    "        traverse(node.R)"
   ]
  },
  {
   "cell_type": "code",
   "execution_count": null,
   "metadata": {},
   "outputs": [
    {
     "name": "stdout",
     "output_type": "stream",
     "text": [
      "3\n",
      "7\n",
      "10\n",
      "12\n",
      "15\n",
      "20\n"
     ]
    }
   ],
   "source": [
    "traverse(tree.root)"
   ]
  },
  {
   "cell_type": "code",
   "execution_count": null,
   "metadata": {},
   "outputs": [
    {
     "data": {
      "image/png": "[encoded data removed]",
      "text/plain": [
       "<Figure size 432x288 with 1 Axes>"
      ]
     },
     "metadata": {
      "needs_background": "light"
     },
     "output_type": "display_data"
    }
   ],
   "source": [
    "tree.draw()"
   ]
  },
  {
   "cell_type": "markdown",
   "metadata": {},
   "source": [
    "# Binary Search Tree"
   ]
  },
  {
   "cell_type": "code",
   "execution_count": null,
   "metadata": {},
   "outputs": [
    {
     "name": "stdout",
     "output_type": "stream",
     "text": [
      "3\n",
      "7\n",
      "10\n",
      "12\n",
      "15\n",
      "20\n"
     ]
    }
   ],
   "source": [
    "tree.inorder()"
   ]
  },
  {
   "cell_type": "markdown",
   "metadata": {},
   "source": [
    "## BST Add/Remove"
   ]
  },
  {
   "cell_type": "code",
   "execution_count": null,
   "metadata": {},
   "outputs": [],
   "source": [
    "tree = BinaryTree()"
   ]
  },
  {
   "cell_type": "code",
   "execution_count": null,
   "metadata": {},
   "outputs": [],
   "source": [
    "tree.add(10)\n",
    "tree.add(7)\n",
    "tree.add(15)\n",
    "tree.add(3)\n",
    "tree.add(12)\n",
    "tree.add(20)"
   ]
  },
  {
   "cell_type": "code",
   "execution_count": null,
   "metadata": {},
   "outputs": [
    {
     "data": {
      "image/png": "[encoded data removed]",
      "text/plain": [
       "<Figure size 432x288 with 1 Axes>"
      ]
     },
     "metadata": {
      "needs_background": "light"
     },
     "output_type": "display_data"
    }
   ],
   "source": [
    "tree.draw()"
   ]
  },
  {
   "cell_type": "code",
   "execution_count": null,
   "metadata": {},
   "outputs": [
    {
     "name": "stdout",
     "output_type": "stream",
     "text": [
      "3\n",
      "7\n",
      "10\n",
      "12\n",
      "15\n",
      "20\n"
     ]
    }
   ],
   "source": [
    "tree.inorder()"
   ]
  },
  {
   "cell_type": "code",
   "execution_count": null,
   "metadata": {},
   "outputs": [],
   "source": [
    "tree.remove(15)"
   ]
  },
  {
   "cell_type": "code",
   "execution_count": null,
   "metadata": {},
   "outputs": [
    {
     "data": {
      "image/png": "[encoded data removed]",
      "text/plain": [
       "<Figure size 432x288 with 1 Axes>"
      ]
     },
     "metadata": {
      "needs_background": "light"
     },
     "output_type": "display_data"
    }
   ],
   "source": [
    "tree.draw()"
   ]
  },
  {
   "cell_type": "code",
   "execution_count": null,
   "metadata": {},
   "outputs": [],
   "source": [
    "tree.remove(10)"
   ]
  },
  {
   "cell_type": "code",
   "execution_count": null,
   "metadata": {},
   "outputs": [
    {
     "data": {
      "image/png": "[encoded data removed]",
      "text/plain": [
       "<Figure size 432x288 with 1 Axes>"
      ]
     },
     "metadata": {
      "needs_background": "light"
     },
     "output_type": "display_data"
    }
   ],
   "source": [
    "tree.draw()"
   ]
  },
  {
   "cell_type": "code",
   "execution_count": null,
   "metadata": {},
   "outputs": [],
   "source": [
    "tree.remove(20)"
   ]
  },
  {
   "cell_type": "code",
   "execution_count": null,
   "metadata": {},
   "outputs": [
    {
     "data": {
      "image/png": "[encoded data removed]",
      "text/plain": [
       "<Figure size 432x288 with 1 Axes>"
      ]
     },
     "metadata": {
      "needs_background": "light"
     },
     "output_type": "display_data"
    }
   ],
   "source": [
    "tree.draw()"
   ]
  },
  {
   "cell_type": "markdown",
   "metadata": {},
   "source": [
    "# Build"
   ]
  },
  {
   "cell_type": "code",
   "execution_count": null,
   "metadata": {},
   "outputs": [
    {
     "data": {
      "application/javascript": [
       "IPython.notebook.save_checkpoint();"
      ],
      "text/plain": [
       "<IPython.core.display.Javascript object>"
      ]
     },
     "metadata": {},
     "output_type": "display_data"
    },
    {
     "name": "stdout",
     "output_type": "stream",
     "text": [
      "Converted module17.ipynb.\n"
     ]
    }
   ],
   "source": [
    "build_notebook()"
   ]
  }
 ],
 "metadata": {
  "kernelspec": {
   "display_name": "Python 3",
   "language": "python",
   "name": "python3"
  }
 },
 "nbformat": 4,
 "nbformat_minor": 2
}
