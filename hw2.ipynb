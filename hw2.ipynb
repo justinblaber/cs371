{
 "cells": [
  {
   "cell_type": "code",
   "execution_count": null,
   "metadata": {},
   "outputs": [],
   "source": [
    "# default_exp hw2"
   ]
  },
  {
   "cell_type": "markdown",
   "metadata": {},
   "source": [
    "# Import"
   ]
  },
  {
   "cell_type": "code",
   "execution_count": null,
   "metadata": {},
   "outputs": [],
   "source": [
    "# export\n",
    "import math\n",
    "import numpy as np\n",
    "from PIL import Image\n",
    "import matplotlib.pyplot as plt\n",
    "\n",
    "from scipy import ndimage\n",
    "import PIL\n",
    "from skimage.transform import resize\n",
    "import time\n",
    "\n",
    "from cs371.utils import *"
   ]
  },
  {
   "cell_type": "markdown",
   "metadata": {},
   "source": [
    "# Autocomplete"
   ]
  },
  {
   "cell_type": "code",
   "execution_count": null,
   "metadata": {},
   "outputs": [],
   "source": [
    "class Autocomplete:\n",
    "    def __init__(self, filename):\n",
    "        fin = open(filename)\n",
    "        self._terms = []\n",
    "        for line in fin.readlines():\n",
    "            line = line.lstrip().rstrip()\n",
    "            fields = line.split(\"\\t\")\n",
    "            term = fields[0]\n",
    "            count = int(fields[1])\n",
    "            self._terms.append((term, count))\n",
    "        fin.close()\n",
    "        self._terms = sorted(self._terms, key=lambda term: term[0])\n",
    "    \n",
    "    def _first_index_of(self, prefix):\n",
    "        return bs(self._terms, prefix)\n",
    "\n",
    "    def _last_index_of(self, prefix):\n",
    "        return bs(self._terms, prefix + '~') - 1 # \"~\" is last lexicographically, assumes only letters\n",
    "\n",
    "    def all_matches(self, prefix):\n",
    "        idx_first = self._first_index_of(prefix)\n",
    "        idx_last  = self._last_index_of(prefix)\n",
    "        return sorted(self._terms[idx_first:idx_last+1], key=lambda x:x[1], reverse=True)"
   ]
  },
  {
   "cell_type": "markdown",
   "metadata": {},
   "source": [
    "# HW2"
   ]
  },
  {
   "cell_type": "code",
   "execution_count": null,
   "metadata": {},
   "outputs": [],
   "source": [
    "def _bs(terms, prefix, idx_left, idx_right):\n",
    "    if idx_left == idx_right:            return idx_left\n",
    "    else:\n",
    "        idx_mid = (idx_left + idx_right)//2\n",
    "        if terms[idx_mid][0] < prefix:   return _bs(terms, prefix, idx_mid+1, idx_right)\n",
    "        else:                            return _bs(terms, prefix, idx_left,  idx_mid)"
   ]
  },
  {
   "cell_type": "code",
   "execution_count": null,
   "metadata": {},
   "outputs": [],
   "source": [
    "def bs(terms, prefix): return _bs(terms, prefix, 0, len(terms))"
   ]
  },
  {
   "cell_type": "code",
   "execution_count": null,
   "metadata": {},
   "outputs": [
    {
     "name": "stdout",
     "output_type": "stream",
     "text": [
      "308595 308618\n"
     ]
    }
   ],
   "source": [
    "a = Autocomplete('data/words.txt')\n",
    "print(a._first_index_of(\"urs\"), a._last_index_of(\"urs\"))"
   ]
  },
  {
   "cell_type": "code",
   "execution_count": null,
   "metadata": {},
   "outputs": [
    {
     "name": "stdout",
     "output_type": "stream",
     "text": [
      "901 total matches\n",
      "Top 10:\n",
      "1 : ('at', 2272272772)\n",
      "2 : ('attention', 44752502)\n",
      "3 : ('attorney', 38778191)\n",
      "4 : ('attack', 35599513)\n",
      "5 : ('atom', 32776867)\n",
      "6 : ('atlanta', 32440124)\n",
      "7 : ('attempt', 25251906)\n",
      "8 : ('atlantic', 23920018)\n",
      "9 : ('attractions', 23129051)\n",
      "10 : ('attached', 23079894)\n"
     ]
    }
   ],
   "source": [
    "a = Autocomplete('data/words.txt')\n",
    "matches = a.all_matches(\"at\")\n",
    "print(len(matches), \"total matches\")\n",
    "print(\"Top 10:\")\n",
    "for i in range(10):\n",
    "    print(i+1, \":\", matches[i])"
   ]
  },
  {
   "cell_type": "code",
   "execution_count": null,
   "metadata": {},
   "outputs": [
    {
     "name": "stdout",
     "output_type": "stream",
     "text": [
      "8 total matches\n",
      "1 : ('College Station, Texas, United States', 93857)\n",
      "2 : ('College Park, Maryland, United States', 30413)\n",
      "3 : ('College Park, Georgia, United States', 13942)\n",
      "4 : ('College, Alaska, United States', 12964)\n",
      "5 : ('College Place, Washington, United States', 8765)\n",
      "6 : ('Collegedale, Tennessee, United States', 8282)\n",
      "7 : ('Collegeville, Pennsylvania, United States', 5089)\n",
      "8 : ('Collegeville, Minnesota, United States', 3516)\n"
     ]
    }
   ],
   "source": [
    "a = Autocomplete('data/cities.txt')\n",
    "matches = a.all_matches(\"College\")\n",
    "print(len(matches), \"total matches\")\n",
    "for i, match in enumerate(matches):\n",
    "    print(i+1, \":\", match)"
   ]
  },
  {
   "cell_type": "markdown",
   "metadata": {},
   "source": [
    "# Build"
   ]
  },
  {
   "cell_type": "code",
   "execution_count": null,
   "metadata": {},
   "outputs": [
    {
     "data": {
      "application/javascript": [
       "IPython.notebook.save_checkpoint();"
      ],
      "text/plain": [
       "<IPython.core.display.Javascript object>"
      ]
     },
     "metadata": {},
     "output_type": "display_data"
    },
    {
     "name": "stdout",
     "output_type": "stream",
     "text": [
      "Converted hw2.ipynb.\n"
     ]
    }
   ],
   "source": [
    "build_notebook()"
   ]
  }
 ],
 "metadata": {
  "kernelspec": {
   "display_name": "Python 3",
   "language": "python",
   "name": "python3"
  }
 },
 "nbformat": 4,
 "nbformat_minor": 2
}
