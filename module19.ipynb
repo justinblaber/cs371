{
 "cells": [
  {
   "cell_type": "code",
   "execution_count": null,
   "metadata": {},
   "outputs": [],
   "source": [
    "# default_exp module19"
   ]
  },
  {
   "cell_type": "markdown",
   "metadata": {},
   "source": [
    "# Import"
   ]
  },
  {
   "cell_type": "code",
   "execution_count": null,
   "metadata": {},
   "outputs": [],
   "source": [
    "# export\n",
    "import numpy as np\n",
    "import matplotlib.pyplot as plt\n",
    "\n",
    "from cs371.utils import *"
   ]
  },
  {
   "cell_type": "markdown",
   "metadata": {},
   "source": [
    "# Priority Queue"
   ]
  },
  {
   "cell_type": "code",
   "execution_count": null,
   "metadata": {},
   "outputs": [],
   "source": [
    "class Heap:\n",
    "    def __init__(self):\n",
    "        self._entries = []\n",
    "\n",
    "    def _i_parent(self, i):  return (i-1) // 2\n",
    "    def _i_child_L(self, i): return 2*i + 1\n",
    "    def _i_child_R(self, i): return 2*i + 2\n",
    "\n",
    "    def _swap(self, i1, i2): \n",
    "        self._entries[i1], self._entries[i2] = self._entries[i2], self._entries[i1]\n",
    "\n",
    "    def _i_children(self, i):\n",
    "        i_L = self._i_child_L(i)\n",
    "        return range(i_L, min(i_L+2, len(self._entries)))\n",
    "\n",
    "    def _downheap(self):\n",
    "        i_parent, i_children = 0, self._i_children(0)\n",
    "        while i_children:\n",
    "            val_parent = self._entries[i_parent]\n",
    "            if len(i_children) == 2:\n",
    "                if self._entries[i_children[0]] > self._entries[i_children[1]]:\n",
    "                    i_child_max = i_children[0]\n",
    "                else:                     \n",
    "                    i_child_max = i_children[1]\n",
    "            else:\n",
    "                i_child_max = i_children[0]\n",
    "            val_child_max = self._entries[i_child_max]\n",
    "            if val_parent < val_child_max: self._swap(i_parent, i_child_max)\n",
    "            else:                          break\n",
    "            i_parent, i_children = i_child_max, self._i_children(i_child_max)\n",
    "\n",
    "    def pop_max(self):\n",
    "        val_max = None\n",
    "        if self._entries:\n",
    "            val_max  = self._entries[0]\n",
    "            val_last = self._entries.pop()\n",
    "            if self._entries:\n",
    "                self._entries[0] = val_last\n",
    "                self._downheap()\n",
    "        return val_max\n",
    "\n",
    "    def _upheap(self):\n",
    "        i_child, i_parent = len(self._entries)-1, self._i_parent(len(self._entries)-1)\n",
    "        while i_parent >= 0:\n",
    "            val_parent, val_child = self._entries[i_parent], self._entries[i_child]\n",
    "            if val_parent < val_child: self._swap(i_parent, i_child)\n",
    "            else:                      break\n",
    "            i_parent, i_child = self._i_parent(i_parent), i_parent\n",
    "\n",
    "    def add(self, val):\n",
    "        self._entries.append(val)\n",
    "        self._upheap()"
   ]
  },
  {
   "cell_type": "code",
   "execution_count": null,
   "metadata": {},
   "outputs": [
    {
     "name": "stdout",
     "output_type": "stream",
     "text": [
      "100\n",
      "36\n",
      "25\n",
      "19\n",
      "17\n",
      "7\n",
      "3\n",
      "2\n",
      "1\n"
     ]
    }
   ],
   "source": [
    "heap = Heap()\n",
    "for i in [7, 1, 2, 36, 3, 17, 100, 19, 25]: heap.add(i)\n",
    "while val := heap.pop_max(): print(val)"
   ]
  },
  {
   "cell_type": "markdown",
   "metadata": {},
   "source": [
    "Refactor a little bit"
   ]
  },
  {
   "cell_type": "code",
   "execution_count": null,
   "metadata": {},
   "outputs": [],
   "source": [
    "class Heap2:\n",
    "    def __init__(self, entries=[]):\n",
    "        self._entries = entries\n",
    "        if entries:\n",
    "            self._heapify()\n",
    "\n",
    "    def _i_parent(self, i):  return (i-1) // 2\n",
    "    def _i_child_L(self, i): return 2*i + 1\n",
    "    def _i_child_R(self, i): return 2*i + 2\n",
    "\n",
    "    def _swap(self, i1, i2): \n",
    "        self._entries[i1], self._entries[i2] = self._entries[i2], self._entries[i1]\n",
    "\n",
    "    def _i_children(self, i):\n",
    "        i_L = self._i_child_L(i)\n",
    "        return range(i_L, min(i_L+2, len(self._entries)))\n",
    "\n",
    "    def _downheap(self, i_parent):\n",
    "        i_children = self._i_children(i_parent)\n",
    "        if i_children:\n",
    "            i_child_max = max(i_children, key=lambda i: self._entries[i])\n",
    "            val_parent, val_child_max = self._entries[i_parent], self._entries[i_child_max]\n",
    "            if val_parent < val_child_max: \n",
    "                self._swap(i_parent, i_child_max)\n",
    "                self._downheap(i_child_max)\n",
    "\n",
    "    def pop_max(self):\n",
    "        val_max = None\n",
    "        if self._entries:\n",
    "            val_max, val_last = self._entries[0], self._entries.pop()\n",
    "            if self._entries:\n",
    "                self._entries[0] = val_last\n",
    "                self._downheap(0)\n",
    "        return val_max\n",
    "\n",
    "    def _upheap(self, i_child):\n",
    "        i_parent = self._i_parent(i_child)\n",
    "        if i_parent >= 0:\n",
    "            val_parent, val_child = self._entries[i_parent], self._entries[i_child]\n",
    "            if val_parent < val_child: \n",
    "                self._swap(i_parent, i_child)\n",
    "                self._upheap(i_parent)\n",
    "\n",
    "    def add(self, val):\n",
    "        self._entries.append(val)\n",
    "        self._upheap(len(self._entries)-1)\n",
    "        \n",
    "    def _heapify(self):\n",
    "        for i in reversed(range(len(self._entries))):\n",
    "            self._downheap(i)"
   ]
  },
  {
   "cell_type": "code",
   "execution_count": null,
   "metadata": {},
   "outputs": [
    {
     "name": "stdout",
     "output_type": "stream",
     "text": [
      "100\n",
      "36\n",
      "25\n",
      "19\n",
      "17\n",
      "7\n",
      "3\n",
      "2\n",
      "1\n"
     ]
    }
   ],
   "source": [
    "heap = Heap2()\n",
    "for i in [7, 1, 2, 36, 3, 17, 100, 19, 25]: heap.add(i)\n",
    "while val := heap.pop_max(): print(val)"
   ]
  },
  {
   "cell_type": "markdown",
   "metadata": {},
   "source": [
    "Try initializing with heapify"
   ]
  },
  {
   "cell_type": "code",
   "execution_count": null,
   "metadata": {},
   "outputs": [
    {
     "name": "stdout",
     "output_type": "stream",
     "text": [
      "100\n",
      "36\n",
      "25\n",
      "19\n",
      "17\n",
      "7\n",
      "3\n",
      "2\n",
      "1\n"
     ]
    }
   ],
   "source": [
    "heap = Heap2([7, 1, 2, 36, 3, 17, 100, 19, 25])\n",
    "while val := heap.pop_max(): print(val)"
   ]
  },
  {
   "cell_type": "markdown",
   "metadata": {},
   "source": [
    "# Build"
   ]
  },
  {
   "cell_type": "code",
   "execution_count": null,
   "metadata": {},
   "outputs": [
    {
     "data": {
      "application/javascript": [
       "IPython.notebook.save_checkpoint();"
      ],
      "text/plain": [
       "<IPython.core.display.Javascript object>"
      ]
     },
     "metadata": {},
     "output_type": "display_data"
    },
    {
     "name": "stdout",
     "output_type": "stream",
     "text": [
      "Converted module19.ipynb.\n"
     ]
    }
   ],
   "source": [
    "build_notebook()"
   ]
  }
 ],
 "metadata": {
  "kernelspec": {
   "display_name": "Python 3",
   "language": "python",
   "name": "python3"
  }
 },
 "nbformat": 4,
 "nbformat_minor": 2
}
