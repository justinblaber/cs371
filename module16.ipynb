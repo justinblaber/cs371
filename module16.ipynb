{
 "cells": [
  {
   "cell_type": "code",
   "execution_count": null,
   "metadata": {},
   "outputs": [],
   "source": [
    "# default_exp module16"
   ]
  },
  {
   "cell_type": "markdown",
   "metadata": {},
   "source": [
    "# Import"
   ]
  },
  {
   "cell_type": "code",
   "execution_count": null,
   "metadata": {},
   "outputs": [],
   "source": [
    "# export\n",
    "import numpy as np\n",
    "import matplotlib.pyplot as plt\n",
    "\n",
    "from cs371.utils import *"
   ]
  },
  {
   "cell_type": "markdown",
   "metadata": {},
   "source": [
    "# Utilities"
   ]
  },
  {
   "cell_type": "code",
   "execution_count": null,
   "metadata": {},
   "outputs": [],
   "source": [
    "def is_sorted(X):\n",
    "    for i in range(len(X)-1):\n",
    "        if X[i+1] < X[i]:\n",
    "            return False\n",
    "    return True"
   ]
  },
  {
   "cell_type": "markdown",
   "metadata": {},
   "source": [
    "# Bucket Sort"
   ]
  },
  {
   "cell_type": "markdown",
   "metadata": {},
   "source": [
    "Assume X is bounded between [0, 9]"
   ]
  },
  {
   "cell_type": "code",
   "execution_count": null,
   "metadata": {},
   "outputs": [],
   "source": [
    "def bucket_sort(X):\n",
    "    buckets = np.zeros(len(X), dtype=np.int_)\n",
    "    for x in X:\n",
    "        buckets[x] += 1\n",
    "    return sum([[x for _ in range(count)] for x, count in enumerate(buckets)], [])"
   ]
  },
  {
   "cell_type": "code",
   "execution_count": null,
   "metadata": {},
   "outputs": [],
   "source": [
    "X = [1, 4, 2, 9, 4, 3, 0, 2, 8, 4]"
   ]
  },
  {
   "cell_type": "code",
   "execution_count": null,
   "metadata": {},
   "outputs": [
    {
     "data": {
      "text/plain": [
       "[0, 1, 2, 2, 3, 4, 4, 4, 8, 9]"
      ]
     },
     "execution_count": null,
     "metadata": {},
     "output_type": "execute_result"
    }
   ],
   "source": [
    "bucket_sort(X)"
   ]
  },
  {
   "cell_type": "markdown",
   "metadata": {},
   "source": [
    "# Radix Sort"
   ]
  },
  {
   "cell_type": "code",
   "execution_count": null,
   "metadata": {},
   "outputs": [],
   "source": [
    "def get_base10(x, place):\n",
    "    return x//(10**place) % 10"
   ]
  },
  {
   "cell_type": "code",
   "execution_count": null,
   "metadata": {},
   "outputs": [
    {
     "data": {
      "text/plain": [
       "(4, 7, 1, 5)"
      ]
     },
     "execution_count": null,
     "metadata": {},
     "output_type": "execute_result"
    }
   ],
   "source": [
    "x = 5174\n",
    "get_base10(x, 0), get_base10(x, 1), get_base10(x, 2), get_base10(x, 3)"
   ]
  },
  {
   "cell_type": "code",
   "execution_count": null,
   "metadata": {},
   "outputs": [],
   "source": [
    "def max_place(x): \n",
    "    if    x == 0: return 0\n",
    "    else:         return int(np.log10(x))+1"
   ]
  },
  {
   "cell_type": "code",
   "execution_count": null,
   "metadata": {},
   "outputs": [
    {
     "data": {
      "text/plain": [
       "(5, 4, 2, 1, 0)"
      ]
     },
     "execution_count": null,
     "metadata": {},
     "output_type": "execute_result"
    }
   ],
   "source": [
    "max_place(10_000), max_place(9_999), max_place(99), max_place(1), max_place(0)"
   ]
  },
  {
   "cell_type": "code",
   "execution_count": null,
   "metadata": {},
   "outputs": [],
   "source": [
    "def max_place_arr(X):\n",
    "    return max([max_place(x) for x in X])"
   ]
  },
  {
   "cell_type": "code",
   "execution_count": null,
   "metadata": {},
   "outputs": [
    {
     "data": {
      "text/plain": [
       "4"
      ]
     },
     "execution_count": null,
     "metadata": {},
     "output_type": "execute_result"
    }
   ],
   "source": [
    "X = [123, 234, 48, 3948, 3, 21]\n",
    "max_place_arr(X)"
   ]
  },
  {
   "cell_type": "code",
   "execution_count": null,
   "metadata": {},
   "outputs": [],
   "source": [
    "def _radix_sort(X, idx1, idx2, place, buf_X):\n",
    "    if place < 0:\n",
    "        return\n",
    "    \n",
    "    # Get histogram of radices\n",
    "    buf_radix = np.zeros(10, dtype=int)\n",
    "    for idx in range(idx1, idx2+1):\n",
    "        buf_radix[get_base10(X[idx], place)] += 1\n",
    "    \n",
    "    # Use cumsum to get starting index of each radix\n",
    "    buf_radix[1:] = np.cumsum(buf_radix[:-1]) + idx1\n",
    "    buf_radix[0]  = idx1\n",
    "    \n",
    "    # Copy elements into buffer in sorted order\n",
    "    for idx in range(idx1, idx2+1):\n",
    "        bucket = get_base10(X[idx], place)\n",
    "        idx_buf = buf_radix[bucket]\n",
    "        buf_X[idx_buf] = X[idx]\n",
    "        buf_radix[bucket] += 1\n",
    "        \n",
    "    # Copy elements from buffer back into array\n",
    "    X[idx1:idx2+1] = buf_X[idx1:idx2+1]\n",
    "    \n",
    "    # Recursively sort each radix\n",
    "    for radix in range(10):\n",
    "        if radix > 0: \n",
    "            idx1 = buf_radix[radix-1]\n",
    "        idx2 = buf_radix[radix]-1\n",
    "        if idx2 > idx1:          \n",
    "            _radix_sort(X, idx1, idx2, place-1, buf_X)"
   ]
  },
  {
   "cell_type": "markdown",
   "metadata": {},
   "source": [
    "The issue with this is `buf_radix` needs to be allocated each time, since recursive call will overwrite the buffer if we keep trackof it"
   ]
  },
  {
   "cell_type": "code",
   "execution_count": null,
   "metadata": {},
   "outputs": [],
   "source": [
    "X          = [123, 234, 48, 3948, 3, 21]\n",
    "place      = 3\n",
    "idx1       = 0\n",
    "idx2       = len(X)-1\n",
    "buf_X      = np.zeros_like(X)"
   ]
  },
  {
   "cell_type": "code",
   "execution_count": null,
   "metadata": {},
   "outputs": [
    {
     "data": {
      "text/plain": [
       "[3, 21, 48, 123, 234, 3948]"
      ]
     },
     "execution_count": null,
     "metadata": {},
     "output_type": "execute_result"
    }
   ],
   "source": [
    "_radix_sort(X, 0, len(X)-1, place, buf_X)\n",
    "X"
   ]
  },
  {
   "cell_type": "code",
   "execution_count": null,
   "metadata": {},
   "outputs": [],
   "source": [
    "def radix_sort(X):\n",
    "    place      = max_place_arr(X)-1\n",
    "    idx1       = 0\n",
    "    idx2       = len(X)-1\n",
    "    buf_X      = np.zeros_like(X)\n",
    "    _radix_sort(X, 0, len(X)-1, place, buf_X)\n",
    "    return X"
   ]
  },
  {
   "cell_type": "code",
   "execution_count": null,
   "metadata": {},
   "outputs": [],
   "source": [
    "X = [123, 234, 48, 3948, 3, 21]"
   ]
  },
  {
   "cell_type": "code",
   "execution_count": null,
   "metadata": {},
   "outputs": [
    {
     "data": {
      "text/plain": [
       "[3, 21, 48, 123, 234, 3948]"
      ]
     },
     "execution_count": null,
     "metadata": {},
     "output_type": "execute_result"
    }
   ],
   "source": [
    "radix_sort(X)"
   ]
  },
  {
   "cell_type": "code",
   "execution_count": null,
   "metadata": {},
   "outputs": [
    {
     "data": {
      "text/plain": [
       "True"
      ]
     },
     "execution_count": null,
     "metadata": {},
     "output_type": "execute_result"
    }
   ],
   "source": [
    "is_sorted(X)"
   ]
  },
  {
   "cell_type": "code",
   "execution_count": null,
   "metadata": {},
   "outputs": [
    {
     "data": {
      "text/plain": [
       "array([8187,  958, 5422, 6270, 1367, 6372, 7353, 3691, 2262, 6202, 5169,\n",
       "       4944,   37, 5522, 2155, 1136, 9034, 3839, 7120, 4511, 5680,  480,\n",
       "       8506, 6012, 7195, 2710, 2521, 3516, 7160, 2753, 2787, 5494, 6151,\n",
       "       5874, 8122, 7022, 6986, 1302,  466, 2404, 3510, 2258, 7962, 7245,\n",
       "       3162, 2102, 6246, 5585, 4288, 9183, 9886, 7404, 4107, 1816, 4873,\n",
       "       9564, 6171, 7719, 6733, 9033, 8560, 1585,  796, 2102, 9202, 6616,\n",
       "       6086, 3057, 3355, 2899, 2238, 4619,  964, 3362, 5185, 5518, 9536,\n",
       "       2470, 4633, 3492, 1754, 2314, 8267, 4306, 5119, 3500, 9062, 4807,\n",
       "       9904, 3200, 3965, 1353, 5298, 9662, 9305, 9609, 2472, 4247, 1349,\n",
       "       2306])"
      ]
     },
     "execution_count": null,
     "metadata": {},
     "output_type": "execute_result"
    }
   ],
   "source": [
    "X = np.random.randint(1e4, size=100)\n",
    "X"
   ]
  },
  {
   "cell_type": "code",
   "execution_count": null,
   "metadata": {},
   "outputs": [
    {
     "data": {
      "text/plain": [
       "array([  37,  466,  480,  796,  958,  964, 1136, 1302, 1349, 1353, 1367,\n",
       "       1585, 1754, 1816, 2102, 2102, 2155, 2238, 2258, 2262, 2306, 2314,\n",
       "       2404, 2470, 2472, 2521, 2710, 2753, 2787, 2899, 3057, 3162, 3200,\n",
       "       3355, 3362, 3492, 3500, 3510, 3516, 3691, 3839, 3965, 4107, 4247,\n",
       "       4288, 4306, 4511, 4619, 4633, 4807, 4873, 4944, 5119, 5169, 5185,\n",
       "       5298, 5422, 5494, 5518, 5522, 5585, 5680, 5874, 6012, 6086, 6151,\n",
       "       6171, 6202, 6246, 6270, 6372, 6616, 6733, 6986, 7022, 7120, 7160,\n",
       "       7195, 7245, 7353, 7404, 7719, 7962, 8122, 8187, 8267, 8506, 8560,\n",
       "       9033, 9034, 9062, 9183, 9202, 9305, 9536, 9564, 9609, 9662, 9886,\n",
       "       9904])"
      ]
     },
     "execution_count": null,
     "metadata": {},
     "output_type": "execute_result"
    }
   ],
   "source": [
    "radix_sort(X)"
   ]
  },
  {
   "cell_type": "code",
   "execution_count": null,
   "metadata": {},
   "outputs": [
    {
     "data": {
      "text/plain": [
       "True"
      ]
     },
     "execution_count": null,
     "metadata": {},
     "output_type": "execute_result"
    }
   ],
   "source": [
    "is_sorted(X)"
   ]
  },
  {
   "cell_type": "markdown",
   "metadata": {},
   "source": [
    "# Try doing least significant digit first"
   ]
  },
  {
   "cell_type": "code",
   "execution_count": null,
   "metadata": {},
   "outputs": [],
   "source": [
    "def _radix_sort2(X, place, buf_X, buf_radix):\n",
    "    # Get histogram of radices\n",
    "    buf_radix[:] = 0\n",
    "    for idx in range(len(X)):\n",
    "        buf_radix[get_base10(X[idx], place)] += 1\n",
    "    \n",
    "    # Use cumsum to get starting index of each radix\n",
    "    buf_radix[1:] = np.cumsum(buf_radix[:-1])\n",
    "    buf_radix[0]  = 0\n",
    "    \n",
    "    # Copy elements into buffer in sorted order\n",
    "    for idx in range(len(X)):\n",
    "        bucket = get_base10(X[idx], place)\n",
    "        idx_buf = buf_radix[bucket]\n",
    "        buf_X[idx_buf] = X[idx]\n",
    "        buf_radix[bucket] += 1\n",
    "        \n",
    "    # Copy elements from buffer back into array\n",
    "    X[:] = buf_X[:]\n",
    "    return X"
   ]
  },
  {
   "cell_type": "code",
   "execution_count": null,
   "metadata": {},
   "outputs": [],
   "source": [
    "X = [123, 234, 48, 3948, 3, 21]"
   ]
  },
  {
   "cell_type": "code",
   "execution_count": null,
   "metadata": {},
   "outputs": [],
   "source": [
    "place      = max_place_arr(X)-1\n",
    "buf_X      = np.zeros_like(X)\n",
    "buf_radix  = np.zeros(10, dtype=int)"
   ]
  },
  {
   "cell_type": "code",
   "execution_count": null,
   "metadata": {},
   "outputs": [
    {
     "data": {
      "text/plain": [
       "[21, 123, 3, 234, 48, 3948]"
      ]
     },
     "execution_count": null,
     "metadata": {},
     "output_type": "execute_result"
    }
   ],
   "source": [
    "_radix_sort2(X, 0, buf_X, buf_radix)"
   ]
  },
  {
   "cell_type": "code",
   "execution_count": null,
   "metadata": {},
   "outputs": [
    {
     "data": {
      "text/plain": [
       "[3, 21, 123, 234, 48, 3948]"
      ]
     },
     "execution_count": null,
     "metadata": {},
     "output_type": "execute_result"
    }
   ],
   "source": [
    "_radix_sort2(X, 1, buf_X, buf_radix)"
   ]
  },
  {
   "cell_type": "code",
   "execution_count": null,
   "metadata": {},
   "outputs": [
    {
     "data": {
      "text/plain": [
       "[3, 21, 48, 123, 234, 3948]"
      ]
     },
     "execution_count": null,
     "metadata": {},
     "output_type": "execute_result"
    }
   ],
   "source": [
    "_radix_sort2(X, 2, buf_X, buf_radix)"
   ]
  },
  {
   "cell_type": "code",
   "execution_count": null,
   "metadata": {},
   "outputs": [
    {
     "data": {
      "text/plain": [
       "[3, 21, 48, 123, 234, 3948]"
      ]
     },
     "execution_count": null,
     "metadata": {},
     "output_type": "execute_result"
    }
   ],
   "source": [
    "_radix_sort2(X, 3, buf_X, buf_radix)"
   ]
  },
  {
   "cell_type": "code",
   "execution_count": null,
   "metadata": {},
   "outputs": [],
   "source": [
    "def radix_sort2(X):\n",
    "    buf_X      = np.zeros_like(X)\n",
    "    buf_radix  = np.zeros(10, dtype=int)\n",
    "    for place in range(max_place_arr(X)):\n",
    "        X = _radix_sort2(X, place, buf_X, buf_radix)\n",
    "    return X"
   ]
  },
  {
   "cell_type": "code",
   "execution_count": null,
   "metadata": {},
   "outputs": [],
   "source": [
    "X = [123, 234, 48, 3948, 3, 21]"
   ]
  },
  {
   "cell_type": "code",
   "execution_count": null,
   "metadata": {},
   "outputs": [
    {
     "data": {
      "text/plain": [
       "[3, 21, 48, 123, 234, 3948]"
      ]
     },
     "execution_count": null,
     "metadata": {},
     "output_type": "execute_result"
    }
   ],
   "source": [
    "X = radix_sort2(X)\n",
    "X"
   ]
  },
  {
   "cell_type": "code",
   "execution_count": null,
   "metadata": {},
   "outputs": [
    {
     "data": {
      "text/plain": [
       "True"
      ]
     },
     "execution_count": null,
     "metadata": {},
     "output_type": "execute_result"
    }
   ],
   "source": [
    "is_sorted(X)"
   ]
  },
  {
   "cell_type": "code",
   "execution_count": null,
   "metadata": {},
   "outputs": [
    {
     "data": {
      "text/plain": [
       "array([7057, 8982, 6606, 6981, 8727, 5004, 5536, 8577, 9979, 8290, 3230,\n",
       "       4188,  135, 3380, 4856, 9121, 3749, 5426, 2633, 7474, 2869, 5670,\n",
       "       7336, 9965, 3115, 5781,   66, 7842, 2676, 5213, 9921, 1885, 7811,\n",
       "       9818, 1399, 9948, 6199, 6503, 9580, 5273, 2707, 4139, 5125, 7785,\n",
       "       4224, 5791, 1493, 4056, 7134, 7650, 8797, 6164, 1640, 5129, 8599,\n",
       "       1867, 8935,  786,  652, 8848, 2841, 4881, 7322, 8157, 5493, 3304,\n",
       "       5568, 1539, 3963,  161, 2815, 3510, 2841, 1173, 7191, 7438, 6429,\n",
       "       7577, 2329, 1891, 3405, 9744, 8371,  786, 4641, 8996,  198, 7945,\n",
       "       5536, 8184, 5451, 6427, 2269, 3993, 1594,  667, 6082, 3244, 9455,\n",
       "       8738])"
      ]
     },
     "execution_count": null,
     "metadata": {},
     "output_type": "execute_result"
    }
   ],
   "source": [
    "X = np.random.randint(1e4, size=100)\n",
    "X"
   ]
  },
  {
   "cell_type": "code",
   "execution_count": null,
   "metadata": {},
   "outputs": [
    {
     "data": {
      "text/plain": [
       "array([  66,  135,  161,  198,  652,  667,  786,  786, 1173, 1399, 1493,\n",
       "       1539, 1594, 1640, 1867, 1885, 1891, 2269, 2329, 2633, 2676, 2707,\n",
       "       2815, 2841, 2841, 2869, 3115, 3230, 3244, 3304, 3380, 3405, 3510,\n",
       "       3749, 3963, 3993, 4056, 4139, 4188, 4224, 4641, 4856, 4881, 5004,\n",
       "       5125, 5129, 5213, 5273, 5426, 5451, 5493, 5536, 5536, 5568, 5670,\n",
       "       5781, 5791, 6082, 6164, 6199, 6427, 6429, 6503, 6606, 6981, 7057,\n",
       "       7134, 7191, 7322, 7336, 7438, 7474, 7577, 7650, 7785, 7811, 7842,\n",
       "       7945, 8157, 8184, 8290, 8371, 8577, 8599, 8727, 8738, 8797, 8848,\n",
       "       8935, 8982, 8996, 9121, 9455, 9580, 9744, 9818, 9921, 9948, 9965,\n",
       "       9979])"
      ]
     },
     "execution_count": null,
     "metadata": {},
     "output_type": "execute_result"
    }
   ],
   "source": [
    "X = radix_sort2(X)\n",
    "X"
   ]
  },
  {
   "cell_type": "code",
   "execution_count": null,
   "metadata": {},
   "outputs": [
    {
     "data": {
      "text/plain": [
       "True"
      ]
     },
     "execution_count": null,
     "metadata": {},
     "output_type": "execute_result"
    }
   ],
   "source": [
    "is_sorted(X)"
   ]
  },
  {
   "cell_type": "markdown",
   "metadata": {},
   "source": [
    "# Build"
   ]
  },
  {
   "cell_type": "code",
   "execution_count": null,
   "metadata": {},
   "outputs": [
    {
     "data": {
      "application/javascript": [
       "IPython.notebook.save_checkpoint();"
      ],
      "text/plain": [
       "<IPython.core.display.Javascript object>"
      ]
     },
     "metadata": {},
     "output_type": "display_data"
    },
    {
     "name": "stdout",
     "output_type": "stream",
     "text": [
      "Converted module16.ipynb.\n"
     ]
    }
   ],
   "source": [
    "build_notebook()"
   ]
  }
 ],
 "metadata": {
  "kernelspec": {
   "display_name": "Python 3",
   "language": "python",
   "name": "python3"
  }
 },
 "nbformat": 4,
 "nbformat_minor": 2
}
