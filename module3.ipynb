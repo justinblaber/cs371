{
 "cells": [
  {
   "cell_type": "code",
   "execution_count": null,
   "metadata": {},
   "outputs": [],
   "source": [
    "# default_exp module3"
   ]
  },
  {
   "cell_type": "markdown",
   "metadata": {},
   "source": [
    "# Import"
   ]
  },
  {
   "cell_type": "code",
   "execution_count": null,
   "metadata": {},
   "outputs": [],
   "source": [
    "# export\n",
    "import numpy as np\n",
    "\n",
    "from cs371.utils import *"
   ]
  },
  {
   "cell_type": "markdown",
   "metadata": {},
   "source": [
    "# Disjoint Set"
   ]
  },
  {
   "cell_type": "markdown",
   "metadata": {},
   "source": [
    "## Do naive approach"
   ]
  },
  {
   "cell_type": "code",
   "execution_count": null,
   "metadata": {},
   "outputs": [],
   "source": [
    "# export\n",
    "class MyDisjointSet:\n",
    "    def __init__(self, N): \n",
    "        self.N = N\n",
    "        self.bubbles = [{i} for i in range(N)]\n",
    "        \n",
    "    def _get_bubble_idx(self, val):\n",
    "        for idx, bubble in enumerate(self.bubbles):\n",
    "            if val in bubble: return idx\n",
    "        return -1\n",
    "    \n",
    "    def find(self, i, j): \n",
    "        idx1, idx2 = map(self._get_bubble_idx, [i, j])\n",
    "        if idx1 != -1 and idx1 == idx2: return True\n",
    "        else:                           return False\n",
    "                \n",
    "    def union(self, i, j):\n",
    "        idx1, idx2 = map(self._get_bubble_idx, [i, j])\n",
    "        if idx1 != -1 and idx2 != -1 and idx1 != idx2:\n",
    "            self.bubbles[idx1] = self.bubbles[idx1] | self.bubbles[idx2]\n",
    "            del self.bubbles[idx2]"
   ]
  },
  {
   "cell_type": "markdown",
   "metadata": {},
   "source": [
    "Run examples from http://www.ctralie.com/Teaching/CS371_S2021/ClassExercises/Week2/Week2_UnionFind/"
   ]
  },
  {
   "cell_type": "code",
   "execution_count": null,
   "metadata": {},
   "outputs": [],
   "source": [
    "ds = MyDisjointSet(10)\n",
    "assert_allclose(ds.bubbles, [{0}, {1}, {2}, {3}, {4}, {5}, {6}, {7}, {8}, {9}])\n",
    "ds.union(0, 2)\n",
    "assert_allclose(ds.bubbles, [{0, 2}, {1}, {3}, {4}, {5}, {6}, {7}, {8}, {9}])\n",
    "ds.union(1, 8)\n",
    "assert_allclose(ds.bubbles, [{0, 2}, {1, 8}, {3}, {4}, {5}, {6}, {7}, {9}])\n",
    "ds.union(8, 7)\n",
    "assert_allclose(ds.bubbles, [{0, 2}, {1, 8, 7}, {3}, {4}, {5}, {6}, {9}])\n",
    "assert_allclose(ds.find(0, 3), False)\n",
    "assert_allclose(ds.find(1, 7), True)\n",
    "ds.union(1, 6)\n",
    "assert_allclose(ds.bubbles, [{0, 2}, {1, 8, 7, 6}, {3}, {4}, {5}, {9}])\n",
    "ds.union(0, 1)\n",
    "assert_allclose(ds.bubbles, [{0, 1, 2, 6, 7, 8}, {3}, {4}, {5}, {9}])\n",
    "assert_allclose(ds.find(0, 7), True)\n",
    "assert_allclose(ds.find(1, 9), False)"
   ]
  },
  {
   "cell_type": "code",
   "execution_count": null,
   "metadata": {},
   "outputs": [],
   "source": [
    "# export\n",
    "class MyDisjointSet2:\n",
    "    def __init__(self, N): \n",
    "        self.N = N\n",
    "        self.idx_bubbles = np.arange(N)\n",
    "        \n",
    "    def _get_bubble_idx(self, val): return self.idx_bubbles[val]\n",
    "    \n",
    "    def find(self, i, j): \n",
    "        idx1, idx2 = map(self._get_bubble_idx, [i, j])\n",
    "        if idx1 != -1 and idx1 == idx2: return True\n",
    "        else:                           return False\n",
    "                \n",
    "    def union(self, i, j):\n",
    "        idx1, idx2 = map(self._get_bubble_idx, [i, j])\n",
    "        if idx1 != -1 and idx2 != -1 and idx1 != idx2:\n",
    "            idx1, idx2 = np.sort([idx1, idx2])\n",
    "            self.idx_bubbles[self.idx_bubbles == idx2] = idx1"
   ]
  },
  {
   "cell_type": "code",
   "execution_count": null,
   "metadata": {},
   "outputs": [],
   "source": [
    "ds = MyDisjointSet2(10)\n",
    "ds.union(0, 2)\n",
    "assert_allclose(ds.idx_bubbles, [0, 1, 0, 3, 4, 5, 6, 7, 8, 9])\n",
    "ds.union(1, 8)\n",
    "assert_allclose(ds.idx_bubbles, [0, 1, 0, 3, 4, 5, 6, 7, 1, 9])\n",
    "ds.union(8, 7)\n",
    "assert_allclose(ds.idx_bubbles, [0, 1, 0, 3, 4, 5, 6, 1, 1, 9])\n",
    "assert_allclose(ds.find(0, 3), False)\n",
    "assert_allclose(ds.find(1, 7), True)\n",
    "ds.union(1, 6)\n",
    "assert_allclose(ds.idx_bubbles, [0, 1, 0, 3, 4, 5, 1, 1, 1, 9])\n",
    "ds.union(0, 1)\n",
    "assert_allclose(ds.idx_bubbles, [0, 0, 0, 3, 4, 5, 0, 0, 0, 9])\n",
    "assert_allclose(ds.find(0, 7), True)\n",
    "assert_allclose(ds.find(1, 9), False)"
   ]
  },
  {
   "cell_type": "code",
   "execution_count": null,
   "metadata": {},
   "outputs": [],
   "source": [
    "# export\n",
    "class MyDisjointSet3:\n",
    "    def __init__(self, N): \n",
    "        self.N = N\n",
    "        self.parents = np.arange(N)\n",
    "        \n",
    "    def _get_root(self, val):\n",
    "        if self.parents[val] != val: return self._get_root(self.parents[val])\n",
    "        else:                        return val\n",
    "    \n",
    "    def find(self, i, j): \n",
    "        root_i = self._get_root(i)\n",
    "        root_j = self._get_root(j)\n",
    "        return root_i == root_j\n",
    "                \n",
    "    def union(self, i, j):\n",
    "        root_i = self._get_root(i)\n",
    "        root_j = self._get_root(j)\n",
    "        if not self.find(i, j):\n",
    "            self.parents[root_j] = root_i"
   ]
  },
  {
   "cell_type": "code",
   "execution_count": null,
   "metadata": {},
   "outputs": [],
   "source": [
    "ds = MyDisjointSet3(10)\n",
    "ds.union(0, 2)\n",
    "assert_allclose(ds.parents, [0, 1, 0, 3, 4, 5, 6, 7, 8, 9])\n",
    "ds.union(1, 8)\n",
    "assert_allclose(ds.parents, [0, 1, 0, 3, 4, 5, 6, 7, 1, 9])\n",
    "ds.union(8, 7)\n",
    "assert_allclose(ds.parents, [0, 1, 0, 3, 4, 5, 6, 1, 1, 9])\n",
    "assert_allclose(ds.find(0, 3), False)\n",
    "assert_allclose(ds.find(1, 7), True)\n",
    "ds.union(1, 6)\n",
    "assert_allclose(ds.parents, [0, 1, 0, 3, 4, 5, 1, 1, 1, 9])\n",
    "ds.union(0, 1)\n",
    "assert_allclose(ds.parents, [0, 0, 0, 3, 4, 5, 1, 1, 1, 9])\n",
    "assert_allclose(ds.find(0, 7), True)\n",
    "assert_allclose(ds.find(1, 9), False)"
   ]
  },
  {
   "cell_type": "markdown",
   "metadata": {},
   "source": [
    "Use simple forest class from textbook"
   ]
  },
  {
   "cell_type": "code",
   "execution_count": null,
   "metadata": {},
   "outputs": [],
   "source": [
    "# export\n",
    "class DisjointSetsForest:\n",
    "    def __init__(self, L):\n",
    "        self._parent = {item : item for item in L}\n",
    "        \n",
    "    def _root(self, item):\n",
    "        while item is not self._parent[item]:\n",
    "            item = self._parent[item]\n",
    "        return item\n",
    "    \n",
    "    def find(self, a, b):\n",
    "        return self._root(a) is self._root(b)\n",
    "    \n",
    "    def union(self, a, b):\n",
    "        if not self.find(a,b):\n",
    "            self._parent[self._root(b)] = self._root(a)"
   ]
  },
  {
   "cell_type": "code",
   "execution_count": null,
   "metadata": {},
   "outputs": [],
   "source": [
    "ds = DisjointSetsForest(np.arange(10))\n",
    "ds.union(0, 2)\n",
    "assert_allclose(list(ds._parent.values()), [0, 1, 0, 3, 4, 5, 6, 7, 8, 9])\n",
    "ds.union(1, 8)\n",
    "assert_allclose(list(ds._parent.values()), [0, 1, 0, 3, 4, 5, 6, 7, 1, 9])\n",
    "ds.union(8, 7)\n",
    "assert_allclose(list(ds._parent.values()), [0, 1, 0, 3, 4, 5, 6, 1, 1, 9])\n",
    "assert_allclose(ds.find(0, 3), False)\n",
    "assert_allclose(ds.find(1, 7), True)\n",
    "ds.union(1, 6)\n",
    "assert_allclose(list(ds._parent.values()), [0, 1, 0, 3, 4, 5, 1, 1, 1, 9])\n",
    "ds.union(0, 1)\n",
    "assert_allclose(list(ds._parent.values()), [0, 0, 0, 3, 4, 5, 1, 1, 1, 9])\n",
    "assert_allclose(ds.find(0, 7), True)\n",
    "assert_allclose(ds.find(1, 9), False)"
   ]
  },
  {
   "cell_type": "markdown",
   "metadata": {},
   "source": [
    "Try to build a case with a long path"
   ]
  },
  {
   "cell_type": "code",
   "execution_count": null,
   "metadata": {},
   "outputs": [
    {
     "name": "stdout",
     "output_type": "stream",
     "text": [
      "{0: 1, 1: 1, 2: 2, 3: 3, 4: 4}\n",
      "{0: 1, 1: 2, 2: 2, 3: 3, 4: 4}\n",
      "{0: 1, 1: 2, 2: 3, 3: 3, 4: 4}\n",
      "{0: 1, 1: 2, 2: 3, 3: 4, 4: 4}\n"
     ]
    }
   ],
   "source": [
    "ds = DisjointSetsForest(np.arange(5))\n",
    "ds.union(1, 0)\n",
    "print(ds._parent)\n",
    "ds.union(2, 0)\n",
    "print(ds._parent)\n",
    "ds.union(3, 0)\n",
    "print(ds._parent)\n",
    "ds.union(4, 0)\n",
    "print(ds._parent)"
   ]
  },
  {
   "cell_type": "markdown",
   "metadata": {},
   "source": [
    "0 -> 1 -> 2 -> 3 -> 4 -> 4"
   ]
  },
  {
   "cell_type": "markdown",
   "metadata": {},
   "source": [
    "## Try simple path compression"
   ]
  },
  {
   "cell_type": "code",
   "execution_count": null,
   "metadata": {},
   "outputs": [],
   "source": [
    "# export\n",
    "class DisjointSetsPathCompression:\n",
    "    def __init__(self, L):\n",
    "        self._parent = {item : item for item in L}\n",
    "        \n",
    "    def _root(self, item):\n",
    "        while item is not self._parent[item]:\n",
    "            parent = self._parent[item]\n",
    "            self._parent[item] = self._parent[parent]\n",
    "            item = parent\n",
    "        return item\n",
    "    \n",
    "    def find(self, a, b):\n",
    "        return self._root(a) is self._root(b)\n",
    "    \n",
    "    def union(self, a, b):\n",
    "        if not self.find(a,b):\n",
    "            self._parent[self._root(b)] = self._root(a)"
   ]
  },
  {
   "cell_type": "code",
   "execution_count": null,
   "metadata": {},
   "outputs": [
    {
     "name": "stdout",
     "output_type": "stream",
     "text": [
      "{0: 1, 1: 1, 2: 2, 3: 3, 4: 4}\n",
      "{0: 1, 1: 2, 2: 2, 3: 3, 4: 4}\n",
      "{0: 2, 1: 2, 2: 3, 3: 3, 4: 4}\n",
      "{0: 3, 1: 2, 2: 3, 3: 4, 4: 4}\n"
     ]
    }
   ],
   "source": [
    "ds = DisjointSetsPathCompression(np.arange(5))\n",
    "ds.union(1, 0)\n",
    "print(ds._parent)\n",
    "ds.union(2, 0)\n",
    "print(ds._parent)\n",
    "ds.union(3, 0)\n",
    "print(ds._parent)\n",
    "ds.union(4, 0)\n",
    "print(ds._parent)"
   ]
  },
  {
   "cell_type": "markdown",
   "metadata": {},
   "source": [
    "0 -> 3 -> 4"
   ]
  },
  {
   "cell_type": "markdown",
   "metadata": {},
   "source": [
    "Path from 1 to root is still long, see the effect of calling `_root()`"
   ]
  },
  {
   "cell_type": "code",
   "execution_count": null,
   "metadata": {},
   "outputs": [
    {
     "name": "stdout",
     "output_type": "stream",
     "text": [
      "{0: 3, 1: 2, 2: 3, 3: 4, 4: 4}\n",
      "{0: 3, 1: 3, 2: 4, 3: 4, 4: 4}\n"
     ]
    }
   ],
   "source": [
    "print(ds._parent)\n",
    "ds._root(1)\n",
    "print(ds._parent)"
   ]
  },
  {
   "cell_type": "markdown",
   "metadata": {},
   "source": [
    "Path went from: `1 -> 2 -> 3 -> 4 -> 4` to: `1 -> 3 -> 4 -> 4`"
   ]
  },
  {
   "cell_type": "markdown",
   "metadata": {},
   "source": [
    "Do two pass path compression where every node in path gets set to new root."
   ]
  },
  {
   "cell_type": "code",
   "execution_count": null,
   "metadata": {},
   "outputs": [],
   "source": [
    "# export\n",
    "class DisjointSetsTwoPassPC:\n",
    "    def __init__(self, L):\n",
    "        self._parent = {item : item for item in L}\n",
    "        \n",
    "    def _root(self, item):\n",
    "        root = item\n",
    "        while root is not self._parent[root]:\n",
    "            root = self._parent[root]\n",
    "        self._compress(item, root)\n",
    "        return root\n",
    "    \n",
    "    def _compress(self, item, root_new):\n",
    "        while item is not self._parent[item]:\n",
    "            item_next = self._parent[item]\n",
    "            self._parent[item] = root_new\n",
    "            item = item_next\n",
    "    \n",
    "    def find(self, a, b):\n",
    "        return self._root(a) is self._root(b)\n",
    "    \n",
    "    def union(self, a, b):\n",
    "        if not self.find(a,b):\n",
    "            self._parent[self._root(b)] = self._root(a)"
   ]
  },
  {
   "cell_type": "code",
   "execution_count": null,
   "metadata": {},
   "outputs": [
    {
     "name": "stdout",
     "output_type": "stream",
     "text": [
      "{0: 1, 1: 1, 2: 2, 3: 3, 4: 4}\n",
      "{0: 1, 1: 2, 2: 2, 3: 3, 4: 4}\n",
      "{0: 2, 1: 2, 2: 3, 3: 3, 4: 4}\n",
      "{0: 3, 1: 2, 2: 3, 3: 4, 4: 4}\n"
     ]
    }
   ],
   "source": [
    "ds = DisjointSetsTwoPassPC(np.arange(5))\n",
    "ds.union(1, 0)\n",
    "print(ds._parent)\n",
    "ds.union(2, 0)\n",
    "print(ds._parent)\n",
    "ds.union(3, 0)\n",
    "print(ds._parent)\n",
    "ds.union(4, 0)\n",
    "print(ds._parent)"
   ]
  },
  {
   "cell_type": "markdown",
   "metadata": {},
   "source": [
    "See the effect of calling `_root(1)`"
   ]
  },
  {
   "cell_type": "code",
   "execution_count": null,
   "metadata": {},
   "outputs": [
    {
     "name": "stdout",
     "output_type": "stream",
     "text": [
      "{0: 3, 1: 2, 2: 3, 3: 4, 4: 4}\n",
      "{0: 3, 1: 4, 2: 4, 3: 4, 4: 4}\n"
     ]
    }
   ],
   "source": [
    "print(ds._parent)\n",
    "ds._root(1)\n",
    "print(ds._parent)"
   ]
  },
  {
   "cell_type": "markdown",
   "metadata": {},
   "source": [
    "Path went from: `1 -> 2 -> 3 -> 4 -> 4` to: `1 -> 4`"
   ]
  },
  {
   "cell_type": "markdown",
   "metadata": {},
   "source": [
    "## Try \"Merge by Height\""
   ]
  },
  {
   "cell_type": "markdown",
   "metadata": {},
   "source": [
    "This doesn't seem correct"
   ]
  },
  {
   "cell_type": "code",
   "execution_count": null,
   "metadata": {},
   "outputs": [],
   "source": [
    "# export\n",
    "class DisjointSetsMergeByHeight:\n",
    "    def __init__(self, L):\n",
    "        self._parent = {item : item for item in L}\n",
    "        self._height = {item : 0 for item in L}\n",
    "        \n",
    "    def _root(self, item):\n",
    "        while item is not self._parent[item]:\n",
    "            item = self._parent[item]\n",
    "        return item\n",
    "    \n",
    "    def find(self, a, b):\n",
    "        return self._root(a) is self._root(b)\n",
    "    \n",
    "    def union(self, a, b):\n",
    "        if not self.find(a,b):\n",
    "            if self._height[a] < self._height[b]:\n",
    "                a,b = b,a\n",
    "            self._parent[self._root(b)] = self._root(a)\n",
    "            self._height[a] = max(self._height[a], self._height[b] + 1)"
   ]
  },
  {
   "cell_type": "code",
   "execution_count": null,
   "metadata": {},
   "outputs": [
    {
     "name": "stdout",
     "output_type": "stream",
     "text": [
      "{0: 1, 1: 1, 2: 2, 3: 3, 4: 4}\n",
      "{0: 1, 1: 2, 2: 2, 3: 3, 4: 4}\n",
      "{0: 1, 1: 2, 2: 3, 3: 3, 4: 4}\n",
      "{0: 1, 1: 2, 2: 3, 3: 4, 4: 4}\n"
     ]
    }
   ],
   "source": [
    "ds = DisjointSetsMergeByHeight(np.arange(5))\n",
    "ds.union(1, 0)\n",
    "print(ds._parent)\n",
    "ds.union(2, 0)\n",
    "print(ds._parent)\n",
    "ds.union(3, 0)\n",
    "print(ds._parent)\n",
    "ds.union(4, 0)\n",
    "print(ds._parent)"
   ]
  },
  {
   "cell_type": "code",
   "execution_count": null,
   "metadata": {},
   "outputs": [],
   "source": [
    "ds = DisjointSetsMergeByHeight(np.arange(10))\n",
    "ds.union(0, 2)\n",
    "assert_allclose(list(ds._parent.values()), [0, 1, 0, 3, 4, 5, 6, 7, 8, 9])\n",
    "ds.union(1, 8)\n",
    "assert_allclose(list(ds._parent.values()), [0, 1, 0, 3, 4, 5, 6, 7, 1, 9])\n",
    "ds.union(8, 7)\n",
    "assert_allclose(list(ds._parent.values()), [0, 1, 0, 3, 4, 5, 6, 1, 1, 9])\n",
    "assert_allclose(ds.find(0, 3), False)\n",
    "assert_allclose(ds.find(1, 7), True)\n",
    "ds.union(1, 6)\n",
    "assert_allclose(list(ds._parent.values()), [0, 1, 0, 3, 4, 5, 1, 1, 1, 9])\n",
    "ds.union(0, 1)\n",
    "assert_allclose(list(ds._parent.values()), [0, 0, 0, 3, 4, 5, 1, 1, 1, 9])\n",
    "assert_allclose(ds.find(0, 7), True)\n",
    "assert_allclose(ds.find(1, 9), False)"
   ]
  },
  {
   "cell_type": "markdown",
   "metadata": {},
   "source": [
    "Implement one on Wikipedia which stores height in root nodes, this makes more sense to me."
   ]
  },
  {
   "cell_type": "code",
   "execution_count": null,
   "metadata": {},
   "outputs": [],
   "source": [
    "# export\n",
    "class DisjointSetsMergeByHeight2:\n",
    "    def __init__(self, L):\n",
    "        self._parent = {item : item for item in L}\n",
    "        self._height = {item : 0    for item in L}\n",
    "        \n",
    "    def _root(self, item):\n",
    "        while item is not self._parent[item]:\n",
    "            item = self._parent[item]\n",
    "        return item\n",
    "    \n",
    "    def find(self, a, b):\n",
    "        return self._root(a) is self._root(b)\n",
    "    \n",
    "    def union(self, a, b):\n",
    "        a = self._root(a)                                             # Replace with \"representative\" node\n",
    "        b = self._root(b)                                             # Replace with \"representative\" node\n",
    "        if a is not b:                                                # find operation\n",
    "            if self._height[a] < self._height[b]: a, b = b, a         # Make sure \"a\" has larger height\n",
    "            self._parent[b] = a                                       # Make root of b a\n",
    "            self._height[a] = max(self._height[a], self._height[b]+1) # Update height of a"
   ]
  },
  {
   "cell_type": "code",
   "execution_count": null,
   "metadata": {},
   "outputs": [
    {
     "name": "stdout",
     "output_type": "stream",
     "text": [
      "dict_values([1, 1, 2, 3, 4])\n",
      "dict_values([1, 1, 1, 3, 4])\n",
      "dict_values([1, 1, 1, 1, 4])\n",
      "dict_values([1, 1, 1, 1, 1])\n",
      "dict_values([0, 1, 0, 0, 0])\n"
     ]
    }
   ],
   "source": [
    "ds = DisjointSetsMergeByHeight2(np.arange(5))\n",
    "ds.union(1, 0)\n",
    "print(ds._parent.values())\n",
    "ds.union(2, 0)\n",
    "print(ds._parent.values())\n",
    "ds.union(3, 0)\n",
    "print(ds._parent.values())\n",
    "ds.union(4, 0)\n",
    "print(ds._parent.values())\n",
    "print(ds._height.values())"
   ]
  },
  {
   "cell_type": "code",
   "execution_count": null,
   "metadata": {},
   "outputs": [],
   "source": [
    "ds = DisjointSetsMergeByHeight2(np.arange(10))\n",
    "ds.union(0, 2)\n",
    "assert_allclose(list(ds._parent.values()), [0, 1, 0, 3, 4, 5, 6, 7, 8, 9])\n",
    "ds.union(1, 8)\n",
    "assert_allclose(list(ds._parent.values()), [0, 1, 0, 3, 4, 5, 6, 7, 1, 9])\n",
    "ds.union(8, 7)\n",
    "assert_allclose(list(ds._parent.values()), [0, 1, 0, 3, 4, 5, 6, 1, 1, 9])\n",
    "assert_allclose(ds.find(0, 3), False)\n",
    "assert_allclose(ds.find(1, 7), True)\n",
    "ds.union(1, 6)\n",
    "assert_allclose(list(ds._parent.values()), [0, 1, 0, 3, 4, 5, 1, 1, 1, 9])\n",
    "ds.union(0, 1)\n",
    "assert_allclose(list(ds._parent.values()), [0, 0, 0, 3, 4, 5, 1, 1, 1, 9])\n",
    "assert_allclose(ds.find(0, 7), True)\n",
    "assert_allclose(ds.find(1, 9), False)"
   ]
  },
  {
   "cell_type": "code",
   "execution_count": null,
   "metadata": {},
   "outputs": [
    {
     "data": {
      "text/plain": [
       "dict_values([2, 1, 0, 0, 0, 0, 0, 0, 0, 0])"
      ]
     },
     "execution_count": null,
     "metadata": {},
     "output_type": "execute_result"
    }
   ],
   "source": [
    "ds._height.values()"
   ]
  },
  {
   "cell_type": "markdown",
   "metadata": {},
   "source": [
    "Store heights but dont swap `a` and `b` to see effect"
   ]
  },
  {
   "cell_type": "code",
   "execution_count": null,
   "metadata": {},
   "outputs": [],
   "source": [
    "# export\n",
    "class DisjointSetsMergeByHeight3:\n",
    "    def __init__(self, L):\n",
    "        self._parent = {item : item for item in L}\n",
    "        self._height = {item : 0    for item in L}\n",
    "        \n",
    "    def _root(self, item):\n",
    "        while item is not self._parent[item]:\n",
    "            item = self._parent[item]\n",
    "        return item\n",
    "    \n",
    "    def find(self, a, b):\n",
    "        return self._root(a) is self._root(b)\n",
    "    \n",
    "    def union(self, a, b):\n",
    "        a = self._root(a)                                             # Replace with \"representative\" node\n",
    "        b = self._root(b)                                             # Replace with \"representative\" node\n",
    "        if a is not b:                                                # `find` operation\n",
    "            self._parent[b] = a                                       # Make root of b a\n",
    "            self._height[a] = max(self._height[a], self._height[b]+1) # Update height of a"
   ]
  },
  {
   "cell_type": "code",
   "execution_count": null,
   "metadata": {},
   "outputs": [],
   "source": [
    "ds = DisjointSetsMergeByHeight3(np.arange(10))\n",
    "ds.union(0, 2)\n",
    "ds.union(1, 8)\n",
    "ds.union(7, 8) # Swap this around\n",
    "ds.union(1, 6)\n",
    "ds.union(0, 1)"
   ]
  },
  {
   "cell_type": "code",
   "execution_count": null,
   "metadata": {},
   "outputs": [
    {
     "data": {
      "text/plain": [
       "dict_values([3, 1, 0, 0, 0, 0, 0, 2, 0, 0])"
      ]
     },
     "execution_count": null,
     "metadata": {},
     "output_type": "execute_result"
    }
   ],
   "source": [
    "ds._height.values()"
   ]
  },
  {
   "cell_type": "code",
   "execution_count": null,
   "metadata": {},
   "outputs": [
    {
     "data": {
      "text/plain": [
       "(dict_values([0, 1, 2, 3, 4]), dict_values([1, 2, 3, 4, 4]))"
      ]
     },
     "execution_count": null,
     "metadata": {},
     "output_type": "execute_result"
    }
   ],
   "source": [
    "ds = DisjointSetsMergeByHeight3(np.arange(5))\n",
    "ds.union(1, 0)\n",
    "ds.union(2, 0)\n",
    "ds.union(3, 0)\n",
    "ds.union(4, 0)\n",
    "ds._height.values(), ds._parent.values()"
   ]
  },
  {
   "cell_type": "code",
   "execution_count": null,
   "metadata": {},
   "outputs": [
    {
     "data": {
      "text/plain": [
       "(dict_values([0, 1, 0, 0, 0]), dict_values([1, 1, 1, 1, 1]))"
      ]
     },
     "execution_count": null,
     "metadata": {},
     "output_type": "execute_result"
    }
   ],
   "source": [
    "ds = DisjointSetsMergeByHeight2(np.arange(5))\n",
    "ds.union(1, 0)\n",
    "ds.union(2, 0)\n",
    "ds.union(3, 0)\n",
    "ds.union(4, 0)\n",
    "ds._height.values(), ds._parent.values()"
   ]
  },
  {
   "cell_type": "markdown",
   "metadata": {},
   "source": [
    "## Try \"Merge by Weight\""
   ]
  },
  {
   "cell_type": "markdown",
   "metadata": {},
   "source": [
    "Weight is the number of nodes in each set. It kind of works by itself but mainly is used with path compression."
   ]
  },
  {
   "cell_type": "code",
   "execution_count": null,
   "metadata": {},
   "outputs": [],
   "source": [
    "# export\n",
    "class DisjointSetsMergeByWeight:\n",
    "    def __init__(self, L):\n",
    "        self._parent = {item : item for item in L}\n",
    "        self._weight = {item : 1    for item in L}\n",
    "        \n",
    "    def _root(self, item):\n",
    "        while item is not self._parent[item]:\n",
    "            item = self._parent[item]\n",
    "        return item\n",
    "    \n",
    "    def find(self, a, b):\n",
    "        return self._root(a) is self._root(b)\n",
    "    \n",
    "    def union(self, a, b):\n",
    "        a = self._root(a)                                             # Replace with \"representative\" node\n",
    "        b = self._root(b)                                             # Replace with \"representative\" node\n",
    "        if a is not b:                                                # find operation\n",
    "            if self._weight[a] < self._weight[b]: a, b = b, a         # Make sure \"a\" has larger height\n",
    "            self._parent[b] = a                                       # Make root of b a\n",
    "            self._weight[a] = self._weight[a] + self._weight[b]       # Update weight of a"
   ]
  },
  {
   "cell_type": "code",
   "execution_count": null,
   "metadata": {},
   "outputs": [
    {
     "data": {
      "text/plain": [
       "(dict_values([1, 5, 1, 1, 1]), dict_values([1, 1, 1, 1, 1]))"
      ]
     },
     "execution_count": null,
     "metadata": {},
     "output_type": "execute_result"
    }
   ],
   "source": [
    "ds = DisjointSetsMergeByWeight(np.arange(5))\n",
    "ds.union(1, 0)\n",
    "ds.union(2, 0)\n",
    "ds.union(3, 0)\n",
    "ds.union(4, 0)\n",
    "ds._weight.values(), ds._parent.values()"
   ]
  },
  {
   "cell_type": "markdown",
   "metadata": {},
   "source": [
    "## Combine path compression with merge by weight"
   ]
  },
  {
   "cell_type": "markdown",
   "metadata": {},
   "source": [
    "We cannot combine path compression with merge by weight since path compression changes the height (but not the weight)"
   ]
  },
  {
   "cell_type": "code",
   "execution_count": null,
   "metadata": {},
   "outputs": [],
   "source": [
    "# export\n",
    "class DisjointSetsMergeByHeightAndPathCompression:\n",
    "    def __init__(self, L):\n",
    "        self._parent = {item : item for item in L}\n",
    "        self._weight = {item : 1    for item in L}\n",
    "        \n",
    "    def _root(self, item):\n",
    "        while item is not self._parent[item]:\n",
    "            parent = self._parent[item]\n",
    "            self._parent[item] = self._parent[parent]\n",
    "            item = parent\n",
    "        return item\n",
    "    \n",
    "    def find(self, a, b):\n",
    "        return self._root(a) is self._root(b)\n",
    "    \n",
    "    def union(self, a, b):\n",
    "        a = self._root(a)                                             # Replace with \"representative\" node\n",
    "        b = self._root(b)                                             # Replace with \"representative\" node\n",
    "        if a is not b:                                                # find operation\n",
    "            if self._weight[a] < self._weight[b]: a, b = b, a         # Make sure \"a\" has larger height\n",
    "            self._parent[b] = a                                       # Make root of b a\n",
    "            self._weight[a] = self._weight[a] + self._weight[b]       # Update weight of a"
   ]
  },
  {
   "cell_type": "code",
   "execution_count": null,
   "metadata": {},
   "outputs": [],
   "source": [
    "ds = DisjointSetsMergeByHeightAndPathCompression(np.arange(10))\n",
    "ds.union(0, 2)\n",
    "assert_allclose(list(ds._parent.values()), [0, 1, 0, 3, 4, 5, 6, 7, 8, 9])\n",
    "ds.union(1, 8)\n",
    "assert_allclose(list(ds._parent.values()), [0, 1, 0, 3, 4, 5, 6, 7, 1, 9])\n",
    "ds.union(8, 7)\n",
    "assert_allclose(list(ds._parent.values()), [0, 1, 0, 3, 4, 5, 6, 1, 1, 9])\n",
    "assert_allclose(ds.find(0, 3), False)\n",
    "assert_allclose(ds.find(1, 7), True)\n",
    "ds.union(1, 6)\n",
    "assert_allclose(list(ds._parent.values()), [0, 1, 0, 3, 4, 5, 1, 1, 1, 9])\n",
    "ds.union(0, 1)\n",
    "assert_allclose(list(ds._parent.values()), [1, 1, 0, 3, 4, 5, 1, 1, 1, 9])\n",
    "assert_allclose(ds.find(0, 7), True)\n",
    "assert_allclose(ds.find(1, 9), False)"
   ]
  },
  {
   "cell_type": "code",
   "execution_count": null,
   "metadata": {},
   "outputs": [
    {
     "data": {
      "text/plain": [
       "(dict_values([1, 5, 1, 1, 1]), dict_values([1, 1, 1, 1, 1]))"
      ]
     },
     "execution_count": null,
     "metadata": {},
     "output_type": "execute_result"
    }
   ],
   "source": [
    "ds = DisjointSetsMergeByHeightAndPathCompression(np.arange(5))\n",
    "ds.union(1, 0)\n",
    "ds.union(2, 0)\n",
    "ds.union(3, 0)\n",
    "ds.union(4, 0)\n",
    "ds._weight.values(), ds._parent.values()"
   ]
  },
  {
   "cell_type": "code",
   "execution_count": null,
   "metadata": {},
   "outputs": [],
   "source": [
    "# export\n",
    "class DisjointSetsMergeByHeightAndPathCompression2:\n",
    "    def __init__(self, L):\n",
    "        self._parent = {item : item for item in L}\n",
    "        self._weight = {item : 1    for item in L}\n",
    "        \n",
    "    def _root(self, item):\n",
    "        root = item\n",
    "        while root is not self._parent[root]:\n",
    "            root = self._parent[root]\n",
    "        self._compress(item, root)\n",
    "        return root\n",
    "    \n",
    "    def _compress(self, item, root_new):\n",
    "        while item is not self._parent[item]:\n",
    "            item_next = self._parent[item]\n",
    "            self._parent[item] = root_new\n",
    "            item = item_next\n",
    "    \n",
    "    def find(self, a, b):\n",
    "        return self._root(a) is self._root(b)\n",
    "    \n",
    "    def union(self, a, b):\n",
    "        a = self._root(a)                                             # Replace with \"representative\" node\n",
    "        b = self._root(b)                                             # Replace with \"representative\" node\n",
    "        if a is not b:                                                # find operation\n",
    "            if self._weight[a] < self._weight[b]: a, b = b, a         # Make sure \"a\" has larger height\n",
    "            self._parent[b] = a                                       # Make root of b a\n",
    "            self._weight[a] = self._weight[a] + self._weight[b]       # Update weight of a"
   ]
  },
  {
   "cell_type": "code",
   "execution_count": null,
   "metadata": {},
   "outputs": [],
   "source": [
    "ds = DisjointSetsMergeByHeightAndPathCompression2(np.arange(10))\n",
    "ds.union(0, 2)\n",
    "assert_allclose(list(ds._parent.values()), [0, 1, 0, 3, 4, 5, 6, 7, 8, 9])\n",
    "ds.union(1, 8)\n",
    "assert_allclose(list(ds._parent.values()), [0, 1, 0, 3, 4, 5, 6, 7, 1, 9])\n",
    "ds.union(8, 7)\n",
    "assert_allclose(list(ds._parent.values()), [0, 1, 0, 3, 4, 5, 6, 1, 1, 9])\n",
    "assert_allclose(ds.find(0, 3), False)\n",
    "assert_allclose(ds.find(1, 7), True)\n",
    "ds.union(1, 6)\n",
    "assert_allclose(list(ds._parent.values()), [0, 1, 0, 3, 4, 5, 1, 1, 1, 9])\n",
    "ds.union(0, 1)\n",
    "assert_allclose(list(ds._parent.values()), [1, 1, 0, 3, 4, 5, 1, 1, 1, 9])\n",
    "assert_allclose(ds.find(0, 7), True)\n",
    "assert_allclose(ds.find(1, 9), False)"
   ]
  },
  {
   "cell_type": "code",
   "execution_count": null,
   "metadata": {},
   "outputs": [
    {
     "data": {
      "text/plain": [
       "(dict_values([1, 5, 1, 1, 1]), dict_values([1, 1, 1, 1, 1]))"
      ]
     },
     "execution_count": null,
     "metadata": {},
     "output_type": "execute_result"
    }
   ],
   "source": [
    "ds = DisjointSetsMergeByHeightAndPathCompression2(np.arange(5))\n",
    "ds.union(1, 0)\n",
    "ds.union(2, 0)\n",
    "ds.union(3, 0)\n",
    "ds.union(4, 0)\n",
    "ds._weight.values(), ds._parent.values()"
   ]
  },
  {
   "cell_type": "markdown",
   "metadata": {},
   "source": [
    "# Build"
   ]
  },
  {
   "cell_type": "code",
   "execution_count": null,
   "metadata": {},
   "outputs": [
    {
     "data": {
      "application/javascript": [
       "IPython.notebook.save_checkpoint();"
      ],
      "text/plain": [
       "<IPython.core.display.Javascript object>"
      ]
     },
     "metadata": {},
     "output_type": "display_data"
    },
    {
     "name": "stdout",
     "output_type": "stream",
     "text": [
      "Converted module3.ipynb.\n"
     ]
    }
   ],
   "source": [
    "build_notebook()"
   ]
  }
 ],
 "metadata": {
  "kernelspec": {
   "display_name": "Python 3",
   "language": "python",
   "name": "python3"
  }
 },
 "nbformat": 4,
 "nbformat_minor": 2
}
