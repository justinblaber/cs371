{
 "cells": [
  {
   "cell_type": "code",
   "execution_count": null,
   "metadata": {},
   "outputs": [],
   "source": [
    "# default_exp module16"
   ]
  },
  {
   "cell_type": "markdown",
   "metadata": {},
   "source": [
    "# Import"
   ]
  },
  {
   "cell_type": "code",
   "execution_count": null,
   "metadata": {},
   "outputs": [],
   "source": [
    "# export\n",
    "import numpy as np\n",
    "import matplotlib.pyplot as plt\n",
    "\n",
    "from cs371.utils import *"
   ]
  },
  {
   "cell_type": "markdown",
   "metadata": {},
   "source": [
    "# Utilities"
   ]
  },
  {
   "cell_type": "code",
   "execution_count": null,
   "metadata": {},
   "outputs": [],
   "source": [
    "def is_sorted(X):\n",
    "    for i in range(len(X)-1):\n",
    "        if X[i+1] < X[i]:\n",
    "            return False\n",
    "    return True"
   ]
  },
  {
   "cell_type": "markdown",
   "metadata": {},
   "source": [
    "# Bucket Sort"
   ]
  },
  {
   "cell_type": "markdown",
   "metadata": {},
   "source": [
    "Assume X is bounded between [0, 9]"
   ]
  },
  {
   "cell_type": "code",
   "execution_count": null,
   "metadata": {},
   "outputs": [],
   "source": [
    "def bucket_sort(X):\n",
    "    buckets = np.zeros(len(X), dtype=np.int_)\n",
    "    for x in X:\n",
    "        buckets[x] += 1\n",
    "    return sum([[x for _ in range(count)] for x, count in enumerate(buckets)], [])"
   ]
  },
  {
   "cell_type": "code",
   "execution_count": null,
   "metadata": {},
   "outputs": [],
   "source": [
    "X = [1, 4, 2, 9, 4, 3, 0, 2, 8, 4]"
   ]
  },
  {
   "cell_type": "code",
   "execution_count": null,
   "metadata": {},
   "outputs": [
    {
     "data": {
      "text/plain": [
       "[0, 1, 2, 2, 3, 4, 4, 4, 8, 9]"
      ]
     },
     "execution_count": null,
     "metadata": {},
     "output_type": "execute_result"
    }
   ],
   "source": [
    "bucket_sort(X)"
   ]
  },
  {
   "cell_type": "markdown",
   "metadata": {},
   "source": [
    "# Radix Sort"
   ]
  },
  {
   "cell_type": "code",
   "execution_count": null,
   "metadata": {},
   "outputs": [],
   "source": [
    "def get_base10(x, place):\n",
    "    return x//(10**place) % 10"
   ]
  },
  {
   "cell_type": "code",
   "execution_count": null,
   "metadata": {},
   "outputs": [
    {
     "data": {
      "text/plain": [
       "(4, 7, 1, 5)"
      ]
     },
     "execution_count": null,
     "metadata": {},
     "output_type": "execute_result"
    }
   ],
   "source": [
    "x = 5174\n",
    "get_base10(x, 0), get_base10(x, 1), get_base10(x, 2), get_base10(x, 3)"
   ]
  },
  {
   "cell_type": "code",
   "execution_count": null,
   "metadata": {},
   "outputs": [],
   "source": [
    "def max_place(x): \n",
    "    if    x == 0: return 0\n",
    "    else:         return int(np.log10(x))+1"
   ]
  },
  {
   "cell_type": "code",
   "execution_count": null,
   "metadata": {},
   "outputs": [
    {
     "data": {
      "text/plain": [
       "(5, 4, 2, 1, 0)"
      ]
     },
     "execution_count": null,
     "metadata": {},
     "output_type": "execute_result"
    }
   ],
   "source": [
    "max_place(10_000), max_place(9_999), max_place(99), max_place(1), max_place(0)"
   ]
  },
  {
   "cell_type": "code",
   "execution_count": null,
   "metadata": {},
   "outputs": [],
   "source": [
    "def max_place_arr(X):\n",
    "    return max([max_place(x) for x in X])"
   ]
  },
  {
   "cell_type": "code",
   "execution_count": null,
   "metadata": {},
   "outputs": [
    {
     "data": {
      "text/plain": [
       "4"
      ]
     },
     "execution_count": null,
     "metadata": {},
     "output_type": "execute_result"
    }
   ],
   "source": [
    "X = [123, 234, 48, 3948, 3, 21]\n",
    "max_place_arr(X)"
   ]
  },
  {
   "cell_type": "code",
   "execution_count": null,
   "metadata": {},
   "outputs": [],
   "source": [
    "def _radix_sort(X, idx1, idx2, place, buf_X):\n",
    "    if place < 0:\n",
    "        return\n",
    "    \n",
    "    # Get histogram of radices\n",
    "    buf_radix = np.zeros(10, dtype=int)\n",
    "    for idx in range(idx1, idx2+1):\n",
    "        buf_radix[get_base10(X[idx], place)] += 1\n",
    "    \n",
    "    # Use cumsum to get starting index of each radix\n",
    "    buf_radix[1:] = np.cumsum(buf_radix[:-1]) + idx1\n",
    "    buf_radix[0]  = idx1\n",
    "    \n",
    "    # Copy elements into buffer in sorted order\n",
    "    for idx in range(idx1, idx2+1):\n",
    "        bucket = get_base10(X[idx], place)\n",
    "        idx_buf = buf_radix[bucket]\n",
    "        buf_X[idx_buf] = X[idx]\n",
    "        buf_radix[bucket] += 1\n",
    "        \n",
    "    # Copy elements from buffer back into array\n",
    "    X[idx1:idx2+1] = buf_X[idx1:idx2+1]\n",
    "    \n",
    "    # Recursively sort each radix\n",
    "    for radix in range(10):\n",
    "        if radix > 0: \n",
    "            idx1 = buf_radix[radix-1]\n",
    "        idx2 = buf_radix[radix]-1\n",
    "        if idx2 > idx1:          \n",
    "            _radix_sort(X, idx1, idx2, place-1, buf_X)"
   ]
  },
  {
   "cell_type": "markdown",
   "metadata": {},
   "source": [
    "The issue with this is `buf_radix` needs to be allocated each time, since recursive call will overwrite the buffer if we keep trackof it"
   ]
  },
  {
   "cell_type": "code",
   "execution_count": null,
   "metadata": {},
   "outputs": [],
   "source": [
    "X          = [123, 234, 48, 3948, 3, 21]\n",
    "place      = 3\n",
    "idx1       = 0\n",
    "idx2       = len(X)-1\n",
    "buf_X      = np.zeros_like(X)"
   ]
  },
  {
   "cell_type": "code",
   "execution_count": null,
   "metadata": {},
   "outputs": [
    {
     "data": {
      "text/plain": [
       "[3, 21, 48, 123, 234, 3948]"
      ]
     },
     "execution_count": null,
     "metadata": {},
     "output_type": "execute_result"
    }
   ],
   "source": [
    "_radix_sort(X, 0, len(X)-1, place, buf_X)\n",
    "X"
   ]
  },
  {
   "cell_type": "code",
   "execution_count": null,
   "metadata": {},
   "outputs": [],
   "source": [
    "def radix_sort(X):\n",
    "    place      = max_place_arr(X)-1\n",
    "    idx1       = 0\n",
    "    idx2       = len(X)-1\n",
    "    buf_X      = np.zeros_like(X)\n",
    "    _radix_sort(X, 0, len(X)-1, place, buf_X)\n",
    "    return X"
   ]
  },
  {
   "cell_type": "code",
   "execution_count": null,
   "metadata": {},
   "outputs": [],
   "source": [
    "X = [123, 234, 48, 3948, 3, 21]"
   ]
  },
  {
   "cell_type": "code",
   "execution_count": null,
   "metadata": {},
   "outputs": [
    {
     "data": {
      "text/plain": [
       "[3, 21, 48, 123, 234, 3948]"
      ]
     },
     "execution_count": null,
     "metadata": {},
     "output_type": "execute_result"
    }
   ],
   "source": [
    "radix_sort(X)"
   ]
  },
  {
   "cell_type": "code",
   "execution_count": null,
   "metadata": {},
   "outputs": [
    {
     "data": {
      "text/plain": [
       "True"
      ]
     },
     "execution_count": null,
     "metadata": {},
     "output_type": "execute_result"
    }
   ],
   "source": [
    "is_sorted(X)"
   ]
  },
  {
   "cell_type": "code",
   "execution_count": null,
   "metadata": {},
   "outputs": [
    {
     "data": {
      "text/plain": [
       "array([2888, 7504, 8218, 5678, 3278, 5957, 2967, 7453, 2034,  270, 7919,\n",
       "       2977, 3783, 4089, 5011, 7778, 1889, 9653, 2631, 9621, 2411, 6118,\n",
       "       3551, 7086, 4536, 6297, 7419, 3017, 5570, 7612, 9652, 4496, 5235,\n",
       "       6949, 4350, 9997, 3233, 2809, 4627, 7350, 6866, 6659, 9083, 3442,\n",
       "       7948, 3430, 4072,   44, 2835, 2578, 1995,  167, 8677, 1086, 2299,\n",
       "       2762, 2984, 7680, 4352, 1930, 1243, 7363, 2370,  484, 5395, 1327,\n",
       "       6054, 9425, 4641, 2284, 9958, 3010, 6005, 7787, 6814, 7465, 8942,\n",
       "       3903, 4167, 2829, 2304, 1502, 1069, 7586, 8895, 6571, 9659, 4175,\n",
       "       4293, 6630, 1567, 3498, 7987, 6770, 7141, 7770, 9153, 5794, 3527,\n",
       "       4373])"
      ]
     },
     "execution_count": null,
     "metadata": {},
     "output_type": "execute_result"
    }
   ],
   "source": [
    "X = np.random.randint(1e4, size=100)\n",
    "X"
   ]
  },
  {
   "cell_type": "code",
   "execution_count": null,
   "metadata": {},
   "outputs": [
    {
     "data": {
      "text/plain": [
       "array([  44,  167,  270,  484, 1069, 1086, 1243, 1327, 1502, 1567, 1889,\n",
       "       1930, 1995, 2034, 2284, 2299, 2304, 2370, 2411, 2578, 2631, 2762,\n",
       "       2809, 2829, 2835, 2888, 2967, 2977, 2984, 3010, 3017, 3233, 3278,\n",
       "       3430, 3442, 3498, 3527, 3551, 3783, 3903, 4072, 4089, 4167, 4175,\n",
       "       4293, 4350, 4352, 4373, 4496, 4536, 4627, 4641, 5011, 5235, 5395,\n",
       "       5570, 5678, 5794, 5957, 6005, 6054, 6118, 6297, 6571, 6630, 6659,\n",
       "       6770, 6814, 6866, 6949, 7086, 7141, 7350, 7363, 7419, 7453, 7465,\n",
       "       7504, 7586, 7612, 7680, 7770, 7778, 7787, 7919, 7948, 7987, 8218,\n",
       "       8677, 8895, 8942, 9083, 9153, 9425, 9621, 9652, 9653, 9659, 9958,\n",
       "       9997])"
      ]
     },
     "execution_count": null,
     "metadata": {},
     "output_type": "execute_result"
    }
   ],
   "source": [
    "radix_sort(X)"
   ]
  },
  {
   "cell_type": "code",
   "execution_count": null,
   "metadata": {},
   "outputs": [
    {
     "data": {
      "text/plain": [
       "True"
      ]
     },
     "execution_count": null,
     "metadata": {},
     "output_type": "execute_result"
    }
   ],
   "source": [
    "is_sorted(X)"
   ]
  },
  {
   "cell_type": "markdown",
   "metadata": {},
   "source": [
    "# Try doing least significant digit first"
   ]
  },
  {
   "cell_type": "code",
   "execution_count": null,
   "metadata": {},
   "outputs": [],
   "source": [
    "def _radix_sort2(X, place, buf_X, buf_radix):\n",
    "    # Get histogram of radices\n",
    "    buf_radix[:] = 0\n",
    "    for idx in range(len(X)):\n",
    "        buf_radix[get_base10(X[idx], place)] += 1\n",
    "    \n",
    "    # Use cumsum to get starting index of each radix\n",
    "    buf_radix[1:] = np.cumsum(buf_radix[:-1])\n",
    "    buf_radix[0]  = 0\n",
    "    \n",
    "    # Copy elements into buffer in sorted order\n",
    "    for idx in range(len(X)):\n",
    "        bucket = get_base10(X[idx], place)\n",
    "        idx_buf = buf_radix[bucket]\n",
    "        buf_X[idx_buf] = X[idx]\n",
    "        buf_radix[bucket] += 1\n",
    "        \n",
    "    # Copy elements from buffer back into array\n",
    "    X[:] = buf_X[:]\n",
    "    return X"
   ]
  },
  {
   "cell_type": "code",
   "execution_count": null,
   "metadata": {},
   "outputs": [],
   "source": [
    "X = [123, 234, 48, 3948, 3, 21]"
   ]
  },
  {
   "cell_type": "code",
   "execution_count": null,
   "metadata": {},
   "outputs": [],
   "source": [
    "place      = max_place_arr(X)-1\n",
    "buf_X      = np.zeros_like(X)\n",
    "buf_radix  = np.zeros(10, dtype=int)"
   ]
  },
  {
   "cell_type": "code",
   "execution_count": null,
   "metadata": {},
   "outputs": [
    {
     "data": {
      "text/plain": [
       "[21, 123, 3, 234, 48, 3948]"
      ]
     },
     "execution_count": null,
     "metadata": {},
     "output_type": "execute_result"
    }
   ],
   "source": [
    "_radix_sort2(X, 0, buf_X, buf_radix)"
   ]
  },
  {
   "cell_type": "code",
   "execution_count": null,
   "metadata": {},
   "outputs": [
    {
     "data": {
      "text/plain": [
       "[3, 21, 123, 234, 48, 3948]"
      ]
     },
     "execution_count": null,
     "metadata": {},
     "output_type": "execute_result"
    }
   ],
   "source": [
    "_radix_sort2(X, 1, buf_X, buf_radix)"
   ]
  },
  {
   "cell_type": "code",
   "execution_count": null,
   "metadata": {},
   "outputs": [
    {
     "data": {
      "text/plain": [
       "[3, 21, 48, 123, 234, 3948]"
      ]
     },
     "execution_count": null,
     "metadata": {},
     "output_type": "execute_result"
    }
   ],
   "source": [
    "_radix_sort2(X, 2, buf_X, buf_radix)"
   ]
  },
  {
   "cell_type": "code",
   "execution_count": null,
   "metadata": {},
   "outputs": [
    {
     "data": {
      "text/plain": [
       "[3, 21, 48, 123, 234, 3948]"
      ]
     },
     "execution_count": null,
     "metadata": {},
     "output_type": "execute_result"
    }
   ],
   "source": [
    "_radix_sort2(X, 3, buf_X, buf_radix)"
   ]
  },
  {
   "cell_type": "code",
   "execution_count": null,
   "metadata": {},
   "outputs": [],
   "source": [
    "def radix_sort2(X):\n",
    "    buf_X      = np.zeros_like(X)\n",
    "    buf_radix  = np.zeros(10, dtype=int)\n",
    "    for place in range(max_place_arr(X)):\n",
    "        X = _radix_sort2(X, place, buf_X, buf_radix)\n",
    "    return X"
   ]
  },
  {
   "cell_type": "code",
   "execution_count": null,
   "metadata": {},
   "outputs": [],
   "source": [
    "X = [123, 234, 48, 3948, 3, 21]"
   ]
  },
  {
   "cell_type": "code",
   "execution_count": null,
   "metadata": {},
   "outputs": [
    {
     "data": {
      "text/plain": [
       "[3, 21, 48, 123, 234, 3948]"
      ]
     },
     "execution_count": null,
     "metadata": {},
     "output_type": "execute_result"
    }
   ],
   "source": [
    "X = radix_sort2(X)\n",
    "X"
   ]
  },
  {
   "cell_type": "code",
   "execution_count": null,
   "metadata": {},
   "outputs": [
    {
     "data": {
      "text/plain": [
       "True"
      ]
     },
     "execution_count": null,
     "metadata": {},
     "output_type": "execute_result"
    }
   ],
   "source": [
    "is_sorted(X)"
   ]
  },
  {
   "cell_type": "code",
   "execution_count": null,
   "metadata": {},
   "outputs": [
    {
     "data": {
      "text/plain": [
       "array([8185, 2835, 9914, 3653, 3990, 4262,  777, 3266, 3432, 4531, 4240,\n",
       "        481,  104, 7163, 1088, 5456, 9847, 3778, 1288, 2359, 7517, 5223,\n",
       "       5570, 7584, 1168,  342, 7900, 8179, 5033, 8845, 5522, 4008, 4270,\n",
       "       3760, 4084, 2491, 9956, 5687, 7908, 4513, 2108, 5540, 5871, 6434,\n",
       "       4508, 4863, 7565, 7620,  125, 4459,  888, 7304, 4284, 4675, 1210,\n",
       "       5502,  475, 6398, 9190, 7051, 9722, 3524, 7895, 2356, 2281, 8947,\n",
       "       4777, 4623, 5184,   29, 7737, 3397, 5684, 9264, 4995, 9027, 1249,\n",
       "       9002, 5670, 6621, 9685, 7160, 9234, 6871, 8589, 3153, 7335, 9368,\n",
       "        781, 3344, 8899, 2724, 4467, 9453, 3100, 1746, 1531, 3236, 2737,\n",
       "       8118])"
      ]
     },
     "execution_count": null,
     "metadata": {},
     "output_type": "execute_result"
    }
   ],
   "source": [
    "X = np.random.randint(1e4, size=100)\n",
    "X"
   ]
  },
  {
   "cell_type": "code",
   "execution_count": null,
   "metadata": {},
   "outputs": [
    {
     "data": {
      "text/plain": [
       "array([  29,  104,  125,  342,  475,  481,  777,  781,  888, 1088, 1168,\n",
       "       1210, 1249, 1288, 1531, 1746, 2108, 2281, 2356, 2359, 2491, 2724,\n",
       "       2737, 2835, 3100, 3153, 3236, 3266, 3344, 3397, 3432, 3524, 3653,\n",
       "       3760, 3778, 3990, 4008, 4084, 4240, 4262, 4270, 4284, 4459, 4467,\n",
       "       4508, 4513, 4531, 4623, 4675, 4777, 4863, 4995, 5033, 5184, 5223,\n",
       "       5456, 5502, 5522, 5540, 5570, 5670, 5684, 5687, 5871, 6398, 6434,\n",
       "       6621, 6871, 7051, 7160, 7163, 7304, 7335, 7517, 7565, 7584, 7620,\n",
       "       7737, 7895, 7900, 7908, 8118, 8179, 8185, 8589, 8845, 8899, 8947,\n",
       "       9002, 9027, 9190, 9234, 9264, 9368, 9453, 9685, 9722, 9847, 9914,\n",
       "       9956])"
      ]
     },
     "execution_count": null,
     "metadata": {},
     "output_type": "execute_result"
    }
   ],
   "source": [
    "X = radix_sort2(X)\n",
    "X"
   ]
  },
  {
   "cell_type": "code",
   "execution_count": null,
   "metadata": {},
   "outputs": [
    {
     "data": {
      "text/plain": [
       "True"
      ]
     },
     "execution_count": null,
     "metadata": {},
     "output_type": "execute_result"
    }
   ],
   "source": [
    "is_sorted(X)"
   ]
  },
  {
   "cell_type": "markdown",
   "metadata": {},
   "source": [
    "# Permutation and fisher yates shuffling"
   ]
  },
  {
   "cell_type": "code",
   "execution_count": null,
   "metadata": {},
   "outputs": [],
   "source": [
    "def swap(X, i, j): X[i], X[j] = X[j], X[i]"
   ]
  },
  {
   "cell_type": "code",
   "execution_count": null,
   "metadata": {},
   "outputs": [],
   "source": [
    "def perm(X, idx=0):\n",
    "    if idx == len(X)-1:\n",
    "        print(X)\n",
    "    else:\n",
    "        for i in range(idx, len(X)):\n",
    "            swap(X, idx, i)\n",
    "            perm(X, idx+1)\n",
    "            swap(X, i, idx)"
   ]
  },
  {
   "cell_type": "code",
   "execution_count": null,
   "metadata": {},
   "outputs": [
    {
     "name": "stdout",
     "output_type": "stream",
     "text": [
      "[1, 2, 3]\n",
      "[1, 3, 2]\n",
      "[2, 1, 3]\n",
      "[2, 3, 1]\n",
      "[3, 2, 1]\n",
      "[3, 1, 2]\n"
     ]
    }
   ],
   "source": [
    "perm([1,2,3])"
   ]
  },
  {
   "cell_type": "code",
   "execution_count": null,
   "metadata": {},
   "outputs": [],
   "source": [
    "def fisher_yates(X):\n",
    "    for i in range(len(X)-1, 0, -1):\n",
    "        print(i)\n",
    "        j = np.random.randint(i+1)\n",
    "        swap(X, i, j)\n",
    "    return(X)"
   ]
  },
  {
   "cell_type": "code",
   "execution_count": null,
   "metadata": {},
   "outputs": [],
   "source": [
    "X = [1, 2, 3]"
   ]
  },
  {
   "cell_type": "code",
   "execution_count": null,
   "metadata": {},
   "outputs": [
    {
     "name": "stdout",
     "output_type": "stream",
     "text": [
      "2\n",
      "1\n"
     ]
    },
    {
     "data": {
      "text/plain": [
       "[3, 1, 2]"
      ]
     },
     "execution_count": null,
     "metadata": {},
     "output_type": "execute_result"
    }
   ],
   "source": [
    "fisher_yates(X)"
   ]
  },
  {
   "cell_type": "code",
   "execution_count": null,
   "metadata": {},
   "outputs": [],
   "source": []
  },
  {
   "cell_type": "code",
   "execution_count": null,
   "metadata": {},
   "outputs": [],
   "source": []
  },
  {
   "cell_type": "markdown",
   "metadata": {},
   "source": [
    "# Build"
   ]
  },
  {
   "cell_type": "code",
   "execution_count": null,
   "metadata": {},
   "outputs": [
    {
     "data": {
      "application/javascript": [
       "IPython.notebook.save_checkpoint();"
      ],
      "text/plain": [
       "<IPython.core.display.Javascript object>"
      ]
     },
     "metadata": {},
     "output_type": "display_data"
    },
    {
     "name": "stdout",
     "output_type": "stream",
     "text": [
      "Converted module16.ipynb.\n"
     ]
    }
   ],
   "source": [
    "build_notebook()"
   ]
  }
 ],
 "metadata": {
  "kernelspec": {
   "display_name": "Python 3",
   "language": "python",
   "name": "python3"
  }
 },
 "nbformat": 4,
 "nbformat_minor": 2
}
